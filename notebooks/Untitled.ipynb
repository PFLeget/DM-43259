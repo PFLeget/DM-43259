{
 "cells": [
  {
   "cell_type": "code",
   "execution_count": 10,
   "id": "084df561-3a93-4c7a-83a3-5c0543d9eafe",
   "metadata": {
    "execution": {
     "iopub.execute_input": "2024-03-13T14:35:38.670224Z",
     "iopub.status.busy": "2024-03-13T14:35:38.670004Z",
     "iopub.status.idle": "2024-03-13T14:35:38.672749Z",
     "shell.execute_reply": "2024-03-13T14:35:38.672345Z",
     "shell.execute_reply.started": "2024-03-13T14:35:38.670210Z"
    }
   },
   "outputs": [],
   "source": [
    "from lsst.daf.butler import Butler\n",
    "import numpy as np\n",
    "import matplotlib.pyplot as plt\n",
    "import lsst.geom"
   ]
  },
  {
   "cell_type": "code",
   "execution_count": 2,
   "id": "de901ff4-b5b5-47f1-be69-6c2962ac3bd1",
   "metadata": {
    "execution": {
     "iopub.execute_input": "2024-03-13T14:30:51.697753Z",
     "iopub.status.busy": "2024-03-13T14:30:51.697152Z",
     "iopub.status.idle": "2024-03-13T14:30:53.460389Z",
     "shell.execute_reply": "2024-03-13T14:30:53.459927Z",
     "shell.execute_reply.started": "2024-03-13T14:30:51.697736Z"
    }
   },
   "outputs": [],
   "source": [
    "butler = Butler('/repo/main', collections=['HSC/runs/RC2/w_2024_10/DM-43178'])\n",
    "exp = butler.get('postISRCCD', exposure=30504, detector=33, instrument=\"HSC\")"
   ]
  },
  {
   "cell_type": "code",
   "execution_count": 7,
   "id": "9b013f17-729d-46be-907b-24c76a247cd3",
   "metadata": {
    "execution": {
     "iopub.execute_input": "2024-03-13T14:33:05.811144Z",
     "iopub.status.busy": "2024-03-13T14:33:05.810917Z",
     "iopub.status.idle": "2024-03-13T14:33:05.813581Z",
     "shell.execute_reply": "2024-03-13T14:33:05.813193Z",
     "shell.execute_reply.started": "2024-03-13T14:33:05.811129Z"
    }
   },
   "outputs": [],
   "source": [
    "exp_wcs = exp.wcs"
   ]
  },
  {
   "cell_type": "code",
   "execution_count": 18,
   "id": "15ac6784-c4c0-4bbb-98a6-1d0a8682d9aa",
   "metadata": {
    "execution": {
     "iopub.execute_input": "2024-03-13T14:36:49.839025Z",
     "iopub.status.busy": "2024-03-13T14:36:49.838311Z",
     "iopub.status.idle": "2024-03-13T14:36:49.843243Z",
     "shell.execute_reply": "2024-03-13T14:36:49.842853Z",
     "shell.execute_reply.started": "2024-03-13T14:36:49.839007Z"
    }
   },
   "outputs": [
    {
     "name": "stdout",
     "output_type": "stream",
     "text": [
      "FITS standard SkyWcs:\n",
      "Sky Origin: (150.3682810668, +2.0836142661)\n",
      "Pixel Origin: (1000, 8.88178e-16)\n",
      "Pixel Scale: 0.166747 arcsec/pixel\n"
     ]
    }
   ],
   "source": [
    "out = exp_wcs.getTanWcs(lsst.geom.Point2D(1000,0))\n",
    "print(out)"
   ]
  },
  {
   "cell_type": "code",
   "execution_count": 19,
   "id": "7f3abb26-4c9f-4892-b2b0-71ebbadd34d2",
   "metadata": {
    "execution": {
     "iopub.execute_input": "2024-03-13T14:37:14.676437Z",
     "iopub.status.busy": "2024-03-13T14:37:14.676224Z",
     "iopub.status.idle": "2024-03-13T14:37:14.681588Z",
     "shell.execute_reply": "2024-03-13T14:37:14.681178Z",
     "shell.execute_reply.started": "2024-03-13T14:37:14.676417Z"
    }
   },
   "outputs": [
    {
     "data": {
      "text/plain": [
       "FITS standard SkyWcs:\n",
       "Sky Origin: (150.2712868620, +2.0823163755)\n",
       "Pixel Origin: (1023.5, 2087.5)\n",
       "Pixel Scale: 0.167191 arcsec/pixel"
      ]
     },
     "execution_count": 19,
     "metadata": {},
     "output_type": "execute_result"
    }
   ],
   "source": [
    "exp_wcs.getTanWcs(exp.getBBox().getCenter())"
   ]
  },
  {
   "cell_type": "code",
   "execution_count": 21,
   "id": "21fca992-d08b-4085-a405-d164adfb5810",
   "metadata": {
    "execution": {
     "iopub.execute_input": "2024-03-13T14:39:03.015653Z",
     "iopub.status.busy": "2024-03-13T14:39:03.015193Z",
     "iopub.status.idle": "2024-03-13T14:39:03.018582Z",
     "shell.execute_reply": "2024-03-13T14:39:03.018146Z",
     "shell.execute_reply.started": "2024-03-13T14:39:03.015638Z"
    }
   },
   "outputs": [
    {
     "name": "stdout",
     "output_type": "stream",
     "text": [
      "(150.3218670185, +2.0834920906)\n",
      "8.09641e-07 rad\n"
     ]
    }
   ],
   "source": [
    "print(exp_wcs.pixelToSky(1000,1000))\n",
    "print(exp_wcs.getPixelScale(lsst.geom.Point2D(1000,1000)))"
   ]
  },
  {
   "cell_type": "code",
   "execution_count": null,
   "id": "07ce1f62-f84a-4892-a91e-d2e5e31e1c5b",
   "metadata": {},
   "outputs": [],
   "source": []
  }
 ],
 "metadata": {
  "kernelspec": {
   "display_name": "LSST",
   "language": "python",
   "name": "lsst"
  },
  "language_info": {
   "codemirror_mode": {
    "name": "ipython",
    "version": 3
   },
   "file_extension": ".py",
   "mimetype": "text/x-python",
   "name": "python",
   "nbconvert_exporter": "python",
   "pygments_lexer": "ipython3",
   "version": "3.11.7"
  }
 },
 "nbformat": 4,
 "nbformat_minor": 5
}
