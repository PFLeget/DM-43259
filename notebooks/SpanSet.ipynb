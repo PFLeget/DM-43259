{
 "cells": [
  {
   "cell_type": "code",
   "execution_count": 17,
   "id": "d7b6453d-12fd-49db-bd54-fde794500bde",
   "metadata": {
    "execution": {
     "iopub.execute_input": "2024-03-27T18:14:08.793194Z",
     "iopub.status.busy": "2024-03-27T18:14:08.793009Z",
     "iopub.status.idle": "2024-03-27T18:14:08.795759Z",
     "shell.execute_reply": "2024-03-27T18:14:08.795443Z",
     "shell.execute_reply.started": "2024-03-27T18:14:08.793181Z"
    }
   },
   "outputs": [],
   "source": [
    "import numpy as np\n",
    "import matplotlib.pyplot as plt\n",
    "from matplotlib.colors import LogNorm\n",
    "import pickle\n",
    "from tqdm import tqdm\n",
    "import copy\n",
    "\n",
    "import treegp\n",
    "\n",
    "from lsst.meas.algorithms import CloughTocher2DInterpolatorUtils as ctUtils\n",
    "from lsst.afw.geom import SpanSet"
   ]
  },
  {
   "cell_type": "code",
   "execution_count": 18,
   "id": "f9d38d82-35a4-4fbc-8b5d-7825b63a18c4",
   "metadata": {
    "execution": {
     "iopub.execute_input": "2024-03-27T18:14:09.768741Z",
     "iopub.status.busy": "2024-03-27T18:14:09.768487Z",
     "iopub.status.idle": "2024-03-27T18:14:10.027932Z",
     "shell.execute_reply": "2024-03-27T18:14:10.027553Z",
     "shell.execute_reply.started": "2024-03-27T18:14:09.768727Z"
    }
   },
   "outputs": [],
   "source": [
    "dic = pickle.load(open(\"data/out_test_0\", \"rb\"))\n",
    "maskedImage = dic['in']['maskedImage']\n",
    "mask = maskedImage.getMask()"
   ]
  },
  {
   "cell_type": "code",
   "execution_count": 31,
   "id": "74ddb5f8-bc91-4d38-952a-02cc058dd003",
   "metadata": {
    "execution": {
     "iopub.execute_input": "2024-03-27T18:17:04.966738Z",
     "iopub.status.busy": "2024-03-27T18:17:04.966475Z",
     "iopub.status.idle": "2024-03-27T18:17:04.979813Z",
     "shell.execute_reply": "2024-03-27T18:17:04.979474Z",
     "shell.execute_reply.started": "2024-03-27T18:17:04.966723Z"
    }
   },
   "outputs": [],
   "source": [
    "badMaskPlanes = (\"SAT\")\n",
    "badPixelMask = mask.getPlaneBitMask(badMaskPlanes)\n",
    "badMaskSpanSet = SpanSet.fromMask(mask, badPixelMask).split()\n",
    "for sset in badMaskSpanSet:\n",
    "   sset_dilated = sset.dilated(5)\n",
    "   sset_dilated.clippedTo(mask.getBBox()).setMask(mask, mask.getPlaneBitMask(\"SAT\"))"
   ]
  },
  {
   "cell_type": "code",
   "execution_count": 26,
   "id": "8c3f7826-091c-4c6c-bb81-81b07f4c6059",
   "metadata": {
    "execution": {
     "iopub.execute_input": "2024-03-27T18:16:44.973076Z",
     "iopub.status.busy": "2024-03-27T18:16:44.972793Z",
     "iopub.status.idle": "2024-03-27T18:16:44.975866Z",
     "shell.execute_reply": "2024-03-27T18:16:44.975577Z",
     "shell.execute_reply.started": "2024-03-27T18:16:44.973062Z"
    }
   },
   "outputs": [
    {
     "data": {
      "text/plain": [
       "9"
      ]
     },
     "execution_count": 26,
     "metadata": {},
     "output_type": "execute_result"
    }
   ],
   "source": [
    "len(badMaskSpanSet)"
   ]
  },
  {
   "cell_type": "code",
   "execution_count": 29,
   "id": "8e72f5fc-3d50-4411-b4e8-028c697a63d8",
   "metadata": {
    "execution": {
     "iopub.execute_input": "2024-03-27T18:16:58.039150Z",
     "iopub.status.busy": "2024-03-27T18:16:58.038859Z",
     "iopub.status.idle": "2024-03-27T18:16:58.041470Z",
     "shell.execute_reply": "2024-03-27T18:16:58.041116Z",
     "shell.execute_reply.started": "2024-03-27T18:16:58.039135Z"
    }
   },
   "outputs": [],
   "source": [
    "A = badMaskSpanSet[0]"
   ]
  },
  {
   "cell_type": "code",
   "execution_count": 35,
   "id": "e3a4b6b9-4bff-4595-895b-9e63f81ace6e",
   "metadata": {
    "execution": {
     "iopub.execute_input": "2024-03-27T18:25:17.590314Z",
     "iopub.status.busy": "2024-03-27T18:25:17.589821Z",
     "iopub.status.idle": "2024-03-27T18:25:17.592438Z",
     "shell.execute_reply": "2024-03-27T18:25:17.592051Z",
     "shell.execute_reply.started": "2024-03-27T18:25:17.590299Z"
    }
   },
   "outputs": [],
   "source": [
    "bbox = A.getBBox()"
   ]
  },
  {
   "cell_type": "code",
   "execution_count": 36,
   "id": "7d7f5ace-34e6-49b4-a0ca-e039f8c1d182",
   "metadata": {
    "execution": {
     "iopub.execute_input": "2024-03-27T18:25:28.337799Z",
     "iopub.status.busy": "2024-03-27T18:25:28.337473Z",
     "iopub.status.idle": "2024-03-27T18:25:28.340736Z",
     "shell.execute_reply": "2024-03-27T18:25:28.340379Z",
     "shell.execute_reply.started": "2024-03-27T18:25:28.337785Z"
    }
   },
   "outputs": [
    {
     "data": {
      "text/plain": [
       "Box2I(corner=Point2I(1173, 1061), dimensions=Extent2I(26, 27))"
      ]
     },
     "execution_count": 36,
     "metadata": {},
     "output_type": "execute_result"
    }
   ],
   "source": [
    "bbox.dilatedBy(10)"
   ]
  },
  {
   "cell_type": "code",
   "execution_count": null,
   "id": "77b96212-5806-4a58-bb8b-cadf2f0c63ac",
   "metadata": {},
   "outputs": [],
   "source": []
  }
 ],
 "metadata": {
  "kernelspec": {
   "display_name": "LSST",
   "language": "python",
   "name": "lsst"
  },
  "language_info": {
   "codemirror_mode": {
    "name": "ipython",
    "version": 3
   },
   "file_extension": ".py",
   "mimetype": "text/x-python",
   "name": "python",
   "nbconvert_exporter": "python",
   "pygments_lexer": "ipython3",
   "version": "3.11.7"
  }
 },
 "nbformat": 4,
 "nbformat_minor": 5
}
