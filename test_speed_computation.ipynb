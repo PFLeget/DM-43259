{
 "cells": [
  {
   "cell_type": "code",
   "execution_count": 1,
   "id": "f79bc1a9-2bda-48a0-b173-df842f170c71",
   "metadata": {
    "execution": {
     "iopub.execute_input": "2024-03-19T15:12:41.925747Z",
     "iopub.status.busy": "2024-03-19T15:12:41.925615Z",
     "iopub.status.idle": "2024-03-19T15:12:45.517602Z",
     "shell.execute_reply": "2024-03-19T15:12:45.517057Z",
     "shell.execute_reply.started": "2024-03-19T15:12:41.925733Z"
    }
   },
   "outputs": [],
   "source": [
    "import numpy as np\n",
    "import matplotlib.pyplot as plt\n",
    "import pickle\n",
    "from tqdm import tqdm\n",
    "\n",
    "import gpytorch\n",
    "import torch\n",
    "\n",
    "from sklearn.gaussian_process import GaussianProcessRegressor\n",
    "from sklearn.gaussian_process.kernels import RBF\n",
    "\n",
    "import george\n",
    "from george import kernels\n",
    "\n",
    "from lsst.meas.algorithms import CloughTocher2DInterpolatorUtils as ctUtils"
   ]
  },
  {
   "cell_type": "code",
   "execution_count": 5,
   "id": "ce83100f-341f-4714-afa4-b0916864b0e4",
   "metadata": {
    "execution": {
     "iopub.execute_input": "2024-03-19T15:13:50.363959Z",
     "iopub.status.busy": "2024-03-19T15:13:50.363662Z",
     "iopub.status.idle": "2024-03-19T15:13:50.367193Z",
     "shell.execute_reply": "2024-03-19T15:13:50.366764Z",
     "shell.execute_reply.started": "2024-03-19T15:13:50.363945Z"
    }
   },
   "outputs": [],
   "source": [
    "def timer(f):\n",
    "    import functools\n",
    "\n",
    "    @functools.wraps(f)\n",
    "    def f2(*args, **kwargs):\n",
    "        import time\n",
    "        import inspect\n",
    "\n",
    "        t0 = time.time()\n",
    "        result = f(*args, **kwargs)\n",
    "        t1 = time.time()\n",
    "        fname = repr(f).split()[1]\n",
    "        print(\"time for %s = %.4f\" % (fname, t1 - t0))\n",
    "        return result\n",
    "\n",
    "    return f2"
   ]
  },
  {
   "cell_type": "code",
   "execution_count": null,
   "id": "dee26e2f-ad8a-4bf1-b644-d586992049ed",
   "metadata": {},
   "outputs": [],
   "source": [
    "class GPRegressionModelKISS(gpytorch.models.ExactGP):\n",
    "    def __init__(self, train_x, train_y, likelihood):\n",
    "        super(GPRegressionModelKISS, self).__init__(train_x, train_y, likelihood)\n",
    "\n",
    "        # SKI requires a grid size hyperparameter. \n",
    "        # This util can help with that. Here we are using a grid that has \n",
    "        # the same number of points as the training data (a ratio of 1.0). \n",
    "        # Performance can be sensitive to this parameter, so you may want to \n",
    "        # adjust it for your own problem on a validation set.\n",
    "        grid_size = gpytorch.utils.grid.choose_grid_size(train_x, 1.0)\n",
    "        print(grid_size)\n",
    "\n",
    "        self.mean_module = gpytorch.means.ConstantMean()\n",
    "        self.covar_module = gpytorch.kernels.ScaleKernel(\n",
    "            gpytorch.kernels.GridInterpolationKernel(\n",
    "                gpytorch.kernels.RBFKernel(), grid_size=grid_size, num_dims=2\n",
    "            )\n",
    "        )\n",
    "\n",
    "    def forward(self, x):\n",
    "        mean_x = self.mean_module(x)\n",
    "        covar_x = self.covar_module(x)\n",
    "        return gpytorch.distributions.MultivariateNormal(mean_x, covar_x)\n",
    "\n",
    "class gp_torch():\n",
    "\n",
    "    def __init__(self, std=2, correlation_length=1., white_noise=0.):\n",
    "    \n",
    "        self.hypers = {\n",
    "            # 'likelihood.noise_covar.noise': torch.tensor(white_noise),\n",
    "            'covar_module.base_kernel.lengthscale': torch.tensor(correlation_length),\n",
    "            'covar_module.outputscale': torch.tensor(std),\n",
    "        }\n",
    "        # print('ok')\n",
    "    @timer\n",
    "    def fit(self, x, y):\n",
    "\n",
    "        self.likelihood = gpytorch.likelihoods.GaussianLikelihood()# noise_constraint=gpytorch.constraints.GreaterThan(1e-15))\n",
    "        self.model = GPRegressionModelKISS(x, y, self.likelihood)\n",
    "        # self.model.initialize(**self.hypers)\n",
    "        self.model.eval()\n",
    "        self.likelihood.eval()\n",
    "\n",
    "    @timer\n",
    "    def predict(self, x):\n",
    "\n",
    "        with torch.no_grad(), gpytorch.settings.fast_pred_var():\n",
    "            prediction = self.likelihood(self.model(x))\n",
    "            y_predict = prediction.mean\n",
    "        return y_predict\n",
    "\n",
    "class gp_sklearn():\n",
    "\n",
    "    def __init__(self, std=2, correlation_length=1., white_noise=0.):\n",
    "\n",
    "        self.std = std\n",
    "        self.l = correlation_length\n",
    "        self.white_noise  = white_noise\n",
    "\n",
    "    @timer\n",
    "    def fit(self, x, y):\n",
    "        alpha = self.white_noise**2\n",
    "        self.kernel = self.std**2 * RBF(length_scale=self.l)\n",
    "        self.gp =  GaussianProcessRegressor(kernel=self.kernel, alpha=alpha, optimizer=None)\n",
    "        self.gp.fit(x, y)\n",
    "\n",
    "    @timer\n",
    "    def predict(self, x):\n",
    "        y_pred = self.gp.predict(x)\n",
    "        return y_pred\n",
    "\n",
    "class gp_george():\n",
    "\n",
    "    def __init__(self, std=2, correlation_length=1., white_noise=0.):\n",
    "        \n",
    "        self.std = std\n",
    "        self.l = correlation_length\n",
    "        self.white_noise  = white_noise\n",
    "\n",
    "    @timer\n",
    "    def fit(self, x, y):\n",
    "        alpha = self.white_noise**2\n",
    "        kernel = self.std**2 * kernels.ExpSquaredKernel(self.l, ndim=2)\n",
    "        self.gp = george.GP(kernel, fit_kernel=False, solver=george.HODLRSolver, seed=42)\n",
    "        self.gp.compute(x, yerr=alpha)\n",
    "        self._y = y\n",
    "\n",
    "    @timer\n",
    "    def predict(self, x):\n",
    "        y_pred = self.gp.predict(self._y, x, return_var=False, return_cov=False)\n",
    "        return y_pred\n"
   ]
  },
  {
   "cell_type": "code",
   "execution_count": 2,
   "id": "bca212e8-b9d4-49c9-9cda-e148a93b5a4a",
   "metadata": {
    "execution": {
     "iopub.execute_input": "2024-03-19T15:12:51.389703Z",
     "iopub.status.busy": "2024-03-19T15:12:51.389417Z",
     "iopub.status.idle": "2024-03-19T15:12:51.525560Z",
     "shell.execute_reply": "2024-03-19T15:12:51.525092Z",
     "shell.execute_reply.started": "2024-03-19T15:12:51.389687Z"
    }
   },
   "outputs": [],
   "source": [
    "dic = pickle.load(open(\"data/out_test_0\", \"rb\"))\n",
    "maskedImage = dic['in']['maskedImage']"
   ]
  },
  {
   "cell_type": "code",
   "execution_count": null,
   "id": "0b52c19e-a95f-49aa-be1f-1d4bdf3aed4b",
   "metadata": {},
   "outputs": [],
   "source": [
    "plt.imshow(maskedImage.image.array)"
   ]
  },
  {
   "cell_type": "code",
   "execution_count": null,
   "id": "fb0696b2-6910-4700-9232-6b82f8fe7b3f",
   "metadata": {},
   "outputs": [],
   "source": [
    "block_size = 20\n",
    "\n",
    "z = maskedImage.image.array[0:block_size,0:block_size]\n",
    "y, x = np.indices(np.shape(z))\n",
    "coordinates = np.array(([x.reshape(-1), y.reshape(-1)])).T\n",
    "\n",
    "training_data_filter = maskedImage.mask.array[0:block_size,0:block_size] < 1\n",
    "training_data_filter = training_data_filter.reshape(-1)\n",
    "z_training = torch.tensor(z.reshape(-1)[training_data_filter])\n",
    "coordinates_training = torch.tensor(coordinates[training_data_filter])\n",
    "coordinates_val = torch.tensor(coordinates[~training_data_filter])"
   ]
  },
  {
   "cell_type": "code",
   "execution_count": null,
   "id": "6ce5e941-f8e5-4467-95f1-88019e47add2",
   "metadata": {},
   "outputs": [],
   "source": [
    "gpt = gp_torch(std=2., correlation_length=0.1, white_noise=np.sqrt(1e-10))\n",
    "gpt.fit(coordinates_training, z_training)\n",
    "z_validation = gpt.predict(coordinates_val)"
   ]
  },
  {
   "cell_type": "code",
   "execution_count": null,
   "id": "56d035b3-4a12-4031-bdb3-8999afee94f2",
   "metadata": {},
   "outputs": [],
   "source": [
    "gps = gp_sklearn(std=2., correlation_length=0.1, white_noise=np.sqrt(1e-10))\n",
    "gps.fit(coordinates_training, z_training)\n",
    "z_validation = gps.predict(coordinates_val)"
   ]
  },
  {
   "cell_type": "code",
   "execution_count": null,
   "id": "662a2343-5f50-4e6e-abb1-e9f84b66aa6b",
   "metadata": {},
   "outputs": [],
   "source": [
    "gpg = gp_george(std=2., correlation_length=0.1, white_noise=np.sqrt(1e-10))\n",
    "gpg.fit(coordinates_training, z_training)\n",
    "z_validation = gpg.predict(coordinates_val)"
   ]
  },
  {
   "cell_type": "code",
   "execution_count": null,
   "id": "089c1beb-153f-47ce-9c98-15ba258588e8",
   "metadata": {},
   "outputs": [],
   "source": [
    "(2000 / 20) * (4000 / 20) * (0.0005 + 0.0009)"
   ]
  },
  {
   "cell_type": "code",
   "execution_count": null,
   "id": "6250206f-6ce2-4996-886e-f2b059ba5d66",
   "metadata": {},
   "outputs": [],
   "source": [
    "40 * 80 * 0.05 / 60"
   ]
  },
  {
   "cell_type": "code",
   "execution_count": null,
   "id": "7f719050-b6c8-4bb7-b67d-64a931259694",
   "metadata": {},
   "outputs": [],
   "source": [
    "import numpy as np\n",
    "\n",
    "def process_subarrays(arr, n):\n",
    "    nx, ny = arr.shape\n",
    "    for x in range(0, nx, n):\n",
    "        for y in range(0, ny, n):\n",
    "            sub_nx = min(n, nx - x)\n",
    "            sub_ny = min(n, ny - y)\n",
    "            sub_array = arr[x:x+sub_nx, y:y+sub_ny]\n",
    "            # Process sub_array here\n",
    "            print(arr)\n",
    "            print(\"\")\n",
    "            print(sub_array)  # Example processing step\n",
    "            print(\"\")\n",
    "            print(\"\")\n",
    "\n",
    "# Example usage\n",
    "nx, ny = 10, 16  # Dimensions of the main array\n",
    "n = 3  # Size of the sub-array\n",
    "arr = np.arange(nx*ny).reshape(nx, ny)  # Create a 2D array for demonstration\n",
    "process_subarrays(arr, n)"
   ]
  },
  {
   "cell_type": "code",
   "execution_count": null,
   "id": "3fb1223d-c9c5-4736-a432-90ee4f590e9d",
   "metadata": {},
   "outputs": [],
   "source": [
    "bad, good = ctUtils.findGoodPixelsAroundBadPixels(maskedImage, [\"BAD\", \"SAT\", \"CR\", \"EDGE\"], buffer=15,)"
   ]
  },
  {
   "cell_type": "code",
   "execution_count": null,
   "id": "d92adeac-4257-471d-b95a-8621fa2db0f7",
   "metadata": {},
   "outputs": [],
   "source": [
    "bad.shape"
   ]
  },
  {
   "cell_type": "code",
   "execution_count": null,
   "id": "060e019c-8171-429d-a02c-a15dcf285c3c",
   "metadata": {},
   "outputs": [],
   "source": [
    "good.shape"
   ]
  },
  {
   "cell_type": "code",
   "execution_count": null,
   "id": "b21f807c-adf2-4cb6-ba54-e0a47560d66f",
   "metadata": {},
   "outputs": [],
   "source": [
    "A = maskedImage.getImage()\n",
    "A.array.reshape(-1).shape"
   ]
  },
  {
   "cell_type": "code",
   "execution_count": null,
   "id": "1ca797a1-b81b-4377-94d6-c9dec3450b1a",
   "metadata": {},
   "outputs": [],
   "source": [
    "442300 / 8552448"
   ]
  },
  {
   "cell_type": "code",
   "execution_count": 25,
   "id": "2c1c15a8-a588-4690-bb3f-ce0e55a476e9",
   "metadata": {
    "execution": {
     "iopub.execute_input": "2024-03-19T15:32:17.067485Z",
     "iopub.status.busy": "2024-03-19T15:32:17.067282Z",
     "iopub.status.idle": "2024-03-19T15:32:17.075581Z",
     "shell.execute_reply": "2024-03-19T15:32:17.075188Z",
     "shell.execute_reply.started": "2024-03-19T15:32:17.067472Z"
    }
   },
   "outputs": [],
   "source": [
    "class GaussianProcessHODLRSolver():\n",
    "\n",
    "    def __init__(self, variance=1., correlation_length=1., white_noise=0., mean=0.):\n",
    "        \n",
    "        self.variance = variance\n",
    "        self.correlation_length = correlation_length\n",
    "        self.white_noise  = white_noise\n",
    "        self.mean = mean\n",
    "\n",
    "    # @timer\n",
    "    def fit(self, x, y):\n",
    "        kernel = self.variance * kernels.ExpSquaredKernel(self.correlation_length, ndim=2)\n",
    "        self.gp = george.GP(kernel, mean=self.mean,\n",
    "                            fit_kernel=False,\n",
    "                            solver=george.HODLRSolver, seed=42)\n",
    "        self.gp.compute(x, yerr=self.white_noise)\n",
    "        self._y = y\n",
    "\n",
    "    # @timer\n",
    "    def predict(self, x):\n",
    "        y_pred = self.gp.predict(self._y, x, return_var=False, return_cov=False)\n",
    "        return y_pred\n",
    "\n",
    "\n",
    "class InterpolateOverDefectGaussianProcess():\n",
    "\n",
    "    @timer\n",
    "    def __init__(self, maskedImage, defects=[\"BAD\", \"SAT\", \"CR\", \"EDGE\"], fwhm=5, block_size=100):\n",
    "\n",
    "        self.maskedImage = maskedImage\n",
    "        self.defects = defects\n",
    "\n",
    "        # Define hyperparameters for GPs.\n",
    "        # Kernel would be isotropic RBF (simple / agnostic choice)\n",
    "        # Amplitude of the kernel would be variance observed on the image.\n",
    "        # Correlation lenght would be PSF size.\n",
    "        # White noise would be standard deviation of the variance map.\n",
    "        # Mean would be set to the mean in the whole CCD.\n",
    "        # In order to do processing fast, sub-divide GP computation on a block.\n",
    "        # Block shape is block_size * block_size\n",
    "\n",
    "        # TO DO: compute the value only on good pixel\n",
    "        # TO DO: deal with not good value?\n",
    "        self.correlation_length = fwhm\n",
    "        self.white_noise = np.sqrt(np.mean(maskedImage.getVariance().array))\n",
    "        self.kernel_amplitude = np.var(maskedImage.getImage().array) - self.white_noise**2\n",
    "        self.mean = np.mean(maskedImage.getImage().array)\n",
    "\n",
    "        self.block_size = block_size\n",
    "\n",
    "    @timer\n",
    "    def interpolate_over_defects(self):\n",
    "\n",
    "        nx = self.maskedImage.getDimensions()[0]\n",
    "        ny = self.maskedImage.getDimensions()[1]\n",
    "        for x in tqdm(range(0, nx, self.block_size)):\n",
    "            for y in range(0, ny, self.block_size):\n",
    "                sub_nx = min(self.block_size, nx - x)\n",
    "                sub_ny = min(self.block_size, ny - y)\n",
    "                sub_masked_image = self.maskedImage[x:x+sub_nx, y:y+sub_ny]\n",
    "                sub_masked_image = self.interpolate_sub_masked_image(sub_masked_image)\n",
    "                self.maskedImage[x:x+sub_nx, y:y+sub_ny] = sub_masked_image\n",
    "\n",
    "\n",
    "    # @timer\n",
    "    def interpolate_sub_masked_image(self, sub_masked_image):\n",
    "\n",
    "        cut = self.correlation_length * 3\n",
    "        bad_pixel, good_pixel = ctUtils.findGoodPixelsAroundBadPixels(sub_masked_image, self.defects, buffer=cut)\n",
    "        # Do nothing if bad pixel is None.\n",
    "        if np.shape(bad_pixel)[0] == 0:\n",
    "            return sub_masked_image\n",
    "        # Do GP interpolation if bad pixel found.\n",
    "        else:\n",
    "            # gp interpolation\n",
    "            gp_hodlr = GaussianProcessHODLRSolver(variance=self.kernel_amplitude, correlation_length=self.correlation_length,\n",
    "                                                  white_noise=self.white_noise, mean=self.mean)\n",
    "            gp_hodlr.fit(good_pixel[:,:2], np.squeeze(good_pixel[:,2:]))\n",
    "            gp_predict = gp_hodlr.predict(bad_pixel[:,:2])\n",
    "            bad_pixel[:,2:] = gp_predict.reshape(np.shape(bad_pixel[:,2:]))\n",
    "\n",
    "            # update_value\n",
    "            ctUtils.updateImageFromArray(sub_masked_image.image, bad_pixel)\n",
    "\n",
    "            return sub_masked_image"
   ]
  },
  {
   "cell_type": "code",
   "execution_count": 32,
   "id": "9be126a2-fcc9-4806-8162-0ac1a20fc99f",
   "metadata": {
    "execution": {
     "iopub.execute_input": "2024-03-19T15:34:40.858161Z",
     "iopub.status.busy": "2024-03-19T15:34:40.857565Z",
     "iopub.status.idle": "2024-03-19T15:34:40.871681Z",
     "shell.execute_reply": "2024-03-19T15:34:40.871225Z",
     "shell.execute_reply.started": "2024-03-19T15:34:40.858145Z"
    }
   },
   "outputs": [
    {
     "name": "stdout",
     "output_type": "stream",
     "text": [
      "time for InterpolateOverDefectGaussianProcess.__init__ = 0.0110\n"
     ]
    }
   ],
   "source": [
    "GP = InterpolateOverDefectGaussianProcess(maskedImage, defects=[\"BAD\", \"SAT\", \"CR\", \"EDGE\"], fwhm=5, block_size=20)"
   ]
  },
  {
   "cell_type": "code",
   "execution_count": 33,
   "id": "8476146c-91a4-440e-87e4-68607eed9ad2",
   "metadata": {
    "execution": {
     "iopub.execute_input": "2024-03-19T15:34:41.616710Z",
     "iopub.status.busy": "2024-03-19T15:34:41.616554Z",
     "iopub.status.idle": "2024-03-19T15:34:44.413517Z",
     "shell.execute_reply": "2024-03-19T15:34:44.413015Z",
     "shell.execute_reply.started": "2024-03-19T15:34:41.616697Z"
    }
   },
   "outputs": [
    {
     "name": "stderr",
     "output_type": "stream",
     "text": [
      "100%|██████████| 103/103 [00:02<00:00, 36.88it/s]"
     ]
    },
    {
     "name": "stdout",
     "output_type": "stream",
     "text": [
      "time for InterpolateOverDefectGaussianProcess.interpolate_over_defects = 2.7944\n"
     ]
    },
    {
     "name": "stderr",
     "output_type": "stream",
     "text": [
      "\n"
     ]
    }
   ],
   "source": [
    "GP.interpolate_over_defects()"
   ]
  },
  {
   "cell_type": "code",
   "execution_count": null,
   "id": "c80ba65b-c208-4e8b-8b51-c4cacfe565f7",
   "metadata": {},
   "outputs": [],
   "source": []
  }
 ],
 "metadata": {
  "kernelspec": {
   "display_name": "LSST",
   "language": "python",
   "name": "lsst"
  },
  "language_info": {
   "codemirror_mode": {
    "name": "ipython",
    "version": 3
   },
   "file_extension": ".py",
   "mimetype": "text/x-python",
   "name": "python",
   "nbconvert_exporter": "python",
   "pygments_lexer": "ipython3",
   "version": "3.11.7"
  }
 },
 "nbformat": 4,
 "nbformat_minor": 5
}
