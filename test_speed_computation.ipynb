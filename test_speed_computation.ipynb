{
 "cells": [
  {
   "cell_type": "code",
   "execution_count": 61,
   "id": "f79bc1a9-2bda-48a0-b173-df842f170c71",
   "metadata": {
    "execution": {
     "iopub.execute_input": "2024-03-18T18:50:51.961251Z",
     "iopub.status.busy": "2024-03-18T18:50:51.960743Z",
     "iopub.status.idle": "2024-03-18T18:50:54.454098Z",
     "shell.execute_reply": "2024-03-18T18:50:54.453590Z",
     "shell.execute_reply.started": "2024-03-18T18:50:51.961237Z"
    }
   },
   "outputs": [],
   "source": [
    "import numpy as np\n",
    "import matplotlib.pyplot as plt\n",
    "import pickle\n",
    "\n",
    "import gpytorch\n",
    "import torch\n",
    "\n",
    "from sklearn.gaussian_process import GaussianProcessRegressor\n",
    "from sklearn.gaussian_process.kernels import RBF\n",
    "\n",
    "import george\n",
    "from george import kernels\n",
    "\n",
    "from lsst.meas.algorithms import CloughTocher2DInterpolatorUtils as ctUtils"
   ]
  },
  {
   "cell_type": "code",
   "execution_count": 49,
   "id": "dee26e2f-ad8a-4bf1-b644-d586992049ed",
   "metadata": {
    "execution": {
     "iopub.execute_input": "2024-03-18T18:37:13.564879Z",
     "iopub.status.busy": "2024-03-18T18:37:13.564591Z",
     "iopub.status.idle": "2024-03-18T18:37:13.573825Z",
     "shell.execute_reply": "2024-03-18T18:37:13.573462Z",
     "shell.execute_reply.started": "2024-03-18T18:37:13.564863Z"
    }
   },
   "outputs": [],
   "source": [
    "def timer(f):\n",
    "    import functools\n",
    "\n",
    "    @functools.wraps(f)\n",
    "    def f2(*args, **kwargs):\n",
    "        import time\n",
    "        import inspect\n",
    "\n",
    "        t0 = time.time()\n",
    "        result = f(*args, **kwargs)\n",
    "        t1 = time.time()\n",
    "        fname = repr(f).split()[1]\n",
    "        print(\"time for %s = %.4f\" % (fname, t1 - t0))\n",
    "        return result\n",
    "\n",
    "    return f2\n",
    "\n",
    "\n",
    "class GPRegressionModelKISS(gpytorch.models.ExactGP):\n",
    "    def __init__(self, train_x, train_y, likelihood):\n",
    "        super(GPRegressionModelKISS, self).__init__(train_x, train_y, likelihood)\n",
    "\n",
    "        # SKI requires a grid size hyperparameter. \n",
    "        # This util can help with that. Here we are using a grid that has \n",
    "        # the same number of points as the training data (a ratio of 1.0). \n",
    "        # Performance can be sensitive to this parameter, so you may want to \n",
    "        # adjust it for your own problem on a validation set.\n",
    "        grid_size = gpytorch.utils.grid.choose_grid_size(train_x, 1.0)\n",
    "        print(grid_size)\n",
    "\n",
    "        self.mean_module = gpytorch.means.ConstantMean()\n",
    "        self.covar_module = gpytorch.kernels.ScaleKernel(\n",
    "            gpytorch.kernels.GridInterpolationKernel(\n",
    "                gpytorch.kernels.RBFKernel(), grid_size=grid_size, num_dims=2\n",
    "            )\n",
    "        )\n",
    "\n",
    "    def forward(self, x):\n",
    "        mean_x = self.mean_module(x)\n",
    "        covar_x = self.covar_module(x)\n",
    "        return gpytorch.distributions.MultivariateNormal(mean_x, covar_x)\n",
    "\n",
    "class gp_torch():\n",
    "\n",
    "    def __init__(self, std=2, correlation_length=1., white_noise=0.):\n",
    "    \n",
    "        self.hypers = {\n",
    "            # 'likelihood.noise_covar.noise': torch.tensor(white_noise),\n",
    "            'covar_module.base_kernel.lengthscale': torch.tensor(correlation_length),\n",
    "            'covar_module.outputscale': torch.tensor(std),\n",
    "        }\n",
    "        # print('ok')\n",
    "    @timer\n",
    "    def fit(self, x, y):\n",
    "\n",
    "        self.likelihood = gpytorch.likelihoods.GaussianLikelihood()# noise_constraint=gpytorch.constraints.GreaterThan(1e-15))\n",
    "        self.model = GPRegressionModelKISS(x, y, self.likelihood)\n",
    "        # self.model.initialize(**self.hypers)\n",
    "        self.model.eval()\n",
    "        self.likelihood.eval()\n",
    "\n",
    "    @timer\n",
    "    def predict(self, x):\n",
    "\n",
    "        with torch.no_grad(), gpytorch.settings.fast_pred_var():\n",
    "            prediction = self.likelihood(self.model(x))\n",
    "            y_predict = prediction.mean\n",
    "        return y_predict\n",
    "\n",
    "class gp_sklearn():\n",
    "\n",
    "    def __init__(self, std=2, correlation_length=1., white_noise=0.):\n",
    "\n",
    "        self.std = std\n",
    "        self.l = correlation_length\n",
    "        self.white_noise  = white_noise\n",
    "\n",
    "    @timer\n",
    "    def fit(self, x, y):\n",
    "        alpha = self.white_noise**2\n",
    "        self.kernel = self.std**2 * RBF(length_scale=self.l)\n",
    "        self.gp =  GaussianProcessRegressor(kernel=self.kernel, alpha=alpha, optimizer=None)\n",
    "        self.gp.fit(x, y)\n",
    "\n",
    "    @timer\n",
    "    def predict(self, x):\n",
    "        y_pred = self.gp.predict(x)\n",
    "        return y_pred\n",
    "\n",
    "class gp_george():\n",
    "\n",
    "    def __init__(self, std=2, correlation_length=1., white_noise=0.):\n",
    "        \n",
    "        self.std = std\n",
    "        self.l = correlation_length\n",
    "        self.white_noise  = white_noise\n",
    "\n",
    "    @timer\n",
    "    def fit(self, x, y):\n",
    "        alpha = self.white_noise**2\n",
    "        kernel = self.std**2 * kernels.ExpSquaredKernel(self.l, ndim=2)\n",
    "        self.gp = george.GP(kernel, fit_kernel=False, solver=george.HODLRSolver, seed=42)\n",
    "        self.gp.compute(x, yerr=alpha)\n",
    "        self._y = y\n",
    "\n",
    "    @timer\n",
    "    def predict(self, x):\n",
    "        y_pred = self.gp.predict(self._y, x, return_var=False, return_cov=False)\n",
    "        return y_pred\n"
   ]
  },
  {
   "cell_type": "code",
   "execution_count": 50,
   "id": "bca212e8-b9d4-49c9-9cda-e148a93b5a4a",
   "metadata": {
    "execution": {
     "iopub.execute_input": "2024-03-18T18:37:14.737710Z",
     "iopub.status.busy": "2024-03-18T18:37:14.737186Z",
     "iopub.status.idle": "2024-03-18T18:37:14.877783Z",
     "shell.execute_reply": "2024-03-18T18:37:14.877284Z",
     "shell.execute_reply.started": "2024-03-18T18:37:14.737694Z"
    }
   },
   "outputs": [],
   "source": [
    "dic = pickle.load(open(\"data/out_test_0\", \"rb\"))\n",
    "maskedImage = dic['in']['maskedImage']"
   ]
  },
  {
   "cell_type": "code",
   "execution_count": 51,
   "id": "0b52c19e-a95f-49aa-be1f-1d4bdf3aed4b",
   "metadata": {
    "execution": {
     "iopub.execute_input": "2024-03-18T18:37:15.720182Z",
     "iopub.status.busy": "2024-03-18T18:37:15.719715Z",
     "iopub.status.idle": "2024-03-18T18:37:16.174447Z",
     "shell.execute_reply": "2024-03-18T18:37:16.174128Z",
     "shell.execute_reply.started": "2024-03-18T18:37:15.720166Z"
    }
   },
   "outputs": [
    {
     "data": {
      "text/plain": [
       "<matplotlib.image.AxesImage at 0x7f0fc6e846d0>"
      ]
     },
     "execution_count": 51,
     "metadata": {},
     "output_type": "execute_result"
    },
    {
     "data": {
      "image/png": "[encoded data removed]",
      "text/plain": [
       "<Figure size 640x480 with 1 Axes>"
      ]
     },
     "metadata": {},
     "output_type": "display_data"
    }
   ],
   "source": [
    "plt.imshow(maskedImage.image.array)"
   ]
  },
  {
   "cell_type": "code",
   "execution_count": 52,
   "id": "fb0696b2-6910-4700-9232-6b82f8fe7b3f",
   "metadata": {
    "execution": {
     "iopub.execute_input": "2024-03-18T18:37:19.276359Z",
     "iopub.status.busy": "2024-03-18T18:37:19.276096Z",
     "iopub.status.idle": "2024-03-18T18:37:19.279978Z",
     "shell.execute_reply": "2024-03-18T18:37:19.279661Z",
     "shell.execute_reply.started": "2024-03-18T18:37:19.276346Z"
    }
   },
   "outputs": [],
   "source": [
    "block_size = 20\n",
    "\n",
    "z = maskedImage.image.array[0:block_size,0:block_size]\n",
    "y, x = np.indices(np.shape(z))\n",
    "coordinates = np.array(([x.reshape(-1), y.reshape(-1)])).T\n",
    "\n",
    "training_data_filter = maskedImage.mask.array[0:block_size,0:block_size] < 1\n",
    "training_data_filter = training_data_filter.reshape(-1)\n",
    "z_training = torch.tensor(z.reshape(-1)[training_data_filter])\n",
    "coordinates_training = torch.tensor(coordinates[training_data_filter])\n",
    "coordinates_val = torch.tensor(coordinates[~training_data_filter])"
   ]
  },
  {
   "cell_type": "code",
   "execution_count": 53,
   "id": "6ce5e941-f8e5-4467-95f1-88019e47add2",
   "metadata": {
    "execution": {
     "iopub.execute_input": "2024-03-18T18:37:20.503182Z",
     "iopub.status.busy": "2024-03-18T18:37:20.502998Z",
     "iopub.status.idle": "2024-03-18T18:37:20.518970Z",
     "shell.execute_reply": "2024-03-18T18:37:20.518650Z",
     "shell.execute_reply.started": "2024-03-18T18:37:20.503169Z"
    }
   },
   "outputs": [
    {
     "name": "stdout",
     "output_type": "stream",
     "text": [
      "7\n",
      "time for gp_torch.fit = 0.0013\n",
      "time for gp_torch.predict = 0.0120\n"
     ]
    }
   ],
   "source": [
    "gpt = gp_torch(std=2., correlation_length=0.1, white_noise=np.sqrt(1e-10))\n",
    "gpt.fit(coordinates_training, z_training)\n",
    "z_validation = gpt.predict(coordinates_val)"
   ]
  },
  {
   "cell_type": "code",
   "execution_count": 54,
   "id": "56d035b3-4a12-4031-bdb3-8999afee94f2",
   "metadata": {
    "execution": {
     "iopub.execute_input": "2024-03-18T18:37:24.256879Z",
     "iopub.status.busy": "2024-03-18T18:37:24.256680Z",
     "iopub.status.idle": "2024-03-18T18:37:24.262173Z",
     "shell.execute_reply": "2024-03-18T18:37:24.261792Z",
     "shell.execute_reply.started": "2024-03-18T18:37:24.256865Z"
    }
   },
   "outputs": [
    {
     "name": "stdout",
     "output_type": "stream",
     "text": [
      "time for gp_sklearn.fit = 0.0021\n",
      "time for gp_sklearn.predict = 0.0007\n"
     ]
    }
   ],
   "source": [
    "gps = gp_sklearn(std=2., correlation_length=0.1, white_noise=np.sqrt(1e-10))\n",
    "gps.fit(coordinates_training, z_training)\n",
    "z_validation = gps.predict(coordinates_val)"
   ]
  },
  {
   "cell_type": "code",
   "execution_count": 55,
   "id": "662a2343-5f50-4e6e-abb1-e9f84b66aa6b",
   "metadata": {
    "execution": {
     "iopub.execute_input": "2024-03-18T18:37:26.561772Z",
     "iopub.status.busy": "2024-03-18T18:37:26.561575Z",
     "iopub.status.idle": "2024-03-18T18:37:26.566138Z",
     "shell.execute_reply": "2024-03-18T18:37:26.565711Z",
     "shell.execute_reply.started": "2024-03-18T18:37:26.561758Z"
    }
   },
   "outputs": [
    {
     "name": "stdout",
     "output_type": "stream",
     "text": [
      "time for gp_george.fit = 0.0005\n",
      "time for gp_george.predict = 0.0009\n"
     ]
    }
   ],
   "source": [
    "gpg = gp_george(std=2., correlation_length=0.1, white_noise=np.sqrt(1e-10))\n",
    "gpg.fit(coordinates_training, z_training)\n",
    "z_validation = gpg.predict(coordinates_val)"
   ]
  },
  {
   "cell_type": "code",
   "execution_count": 56,
   "id": "089c1beb-153f-47ce-9c98-15ba258588e8",
   "metadata": {
    "execution": {
     "iopub.execute_input": "2024-03-18T18:38:29.519427Z",
     "iopub.status.busy": "2024-03-18T18:38:29.518945Z",
     "iopub.status.idle": "2024-03-18T18:38:29.522268Z",
     "shell.execute_reply": "2024-03-18T18:38:29.521914Z",
     "shell.execute_reply.started": "2024-03-18T18:38:29.519412Z"
    }
   },
   "outputs": [
    {
     "data": {
      "text/plain": [
       "28.0"
      ]
     },
     "execution_count": 56,
     "metadata": {},
     "output_type": "execute_result"
    }
   ],
   "source": [
    "(2000 / 20) * (4000 / 20) * (0.0005 + 0.0009)"
   ]
  },
  {
   "cell_type": "code",
   "execution_count": 44,
   "id": "6250206f-6ce2-4996-886e-f2b059ba5d66",
   "metadata": {
    "execution": {
     "iopub.execute_input": "2024-03-18T18:36:45.614015Z",
     "iopub.status.busy": "2024-03-18T18:36:45.613724Z",
     "iopub.status.idle": "2024-03-18T18:36:45.616746Z",
     "shell.execute_reply": "2024-03-18T18:36:45.616451Z",
     "shell.execute_reply.started": "2024-03-18T18:36:45.614001Z"
    }
   },
   "outputs": [
    {
     "data": {
      "text/plain": [
       "2.6666666666666665"
      ]
     },
     "execution_count": 44,
     "metadata": {},
     "output_type": "execute_result"
    }
   ],
   "source": [
    "40 * 80 * 0.05 / 60"
   ]
  },
  {
   "cell_type": "code",
   "execution_count": 60,
   "id": "7f719050-b6c8-4bb7-b67d-64a931259694",
   "metadata": {
    "execution": {
     "iopub.execute_input": "2024-03-18T18:49:46.099139Z",
     "iopub.status.busy": "2024-03-18T18:49:46.098729Z",
     "iopub.status.idle": "2024-03-18T18:49:46.108894Z",
     "shell.execute_reply": "2024-03-18T18:49:46.108524Z",
     "shell.execute_reply.started": "2024-03-18T18:49:46.099125Z"
    }
   },
   "outputs": [
    {
     "name": "stdout",
     "output_type": "stream",
     "text": [
      "[[  0   1   2   3   4   5   6   7   8   9  10  11  12  13  14  15]\n",
      " [ 16  17  18  19  20  21  22  23  24  25  26  27  28  29  30  31]\n",
      " [ 32  33  34  35  36  37  38  39  40  41  42  43  44  45  46  47]\n",
      " [ 48  49  50  51  52  53  54  55  56  57  58  59  60  61  62  63]\n",
      " [ 64  65  66  67  68  69  70  71  72  73  74  75  76  77  78  79]\n",
      " [ 80  81  82  83  84  85  86  87  88  89  90  91  92  93  94  95]\n",
      " [ 96  97  98  99 100 101 102 103 104 105 106 107 108 109 110 111]\n",
      " [112 113 114 115 116 117 118 119 120 121 122 123 124 125 126 127]\n",
      " [128 129 130 131 132 133 134 135 136 137 138 139 140 141 142 143]\n",
      " [144 145 146 147 148 149 150 151 152 153 154 155 156 157 158 159]]\n",
      "\n",
      "[[ 0  1  2]\n",
      " [16 17 18]\n",
      " [32 33 34]]\n",
      "\n",
      "\n",
      "[[  0   1   2   3   4   5   6   7   8   9  10  11  12  13  14  15]\n",
      " [ 16  17  18  19  20  21  22  23  24  25  26  27  28  29  30  31]\n",
      " [ 32  33  34  35  36  37  38  39  40  41  42  43  44  45  46  47]\n",
      " [ 48  49  50  51  52  53  54  55  56  57  58  59  60  61  62  63]\n",
      " [ 64  65  66  67  68  69  70  71  72  73  74  75  76  77  78  79]\n",
      " [ 80  81  82  83  84  85  86  87  88  89  90  91  92  93  94  95]\n",
      " [ 96  97  98  99 100 101 102 103 104 105 106 107 108 109 110 111]\n",
      " [112 113 114 115 116 117 118 119 120 121 122 123 124 125 126 127]\n",
      " [128 129 130 131 132 133 134 135 136 137 138 139 140 141 142 143]\n",
      " [144 145 146 147 148 149 150 151 152 153 154 155 156 157 158 159]]\n",
      "\n",
      "[[ 3  4  5]\n",
      " [19 20 21]\n",
      " [35 36 37]]\n",
      "\n",
      "\n",
      "[[  0   1   2   3   4   5   6   7   8   9  10  11  12  13  14  15]\n",
      " [ 16  17  18  19  20  21  22  23  24  25  26  27  28  29  30  31]\n",
      " [ 32  33  34  35  36  37  38  39  40  41  42  43  44  45  46  47]\n",
      " [ 48  49  50  51  52  53  54  55  56  57  58  59  60  61  62  63]\n",
      " [ 64  65  66  67  68  69  70  71  72  73  74  75  76  77  78  79]\n",
      " [ 80  81  82  83  84  85  86  87  88  89  90  91  92  93  94  95]\n",
      " [ 96  97  98  99 100 101 102 103 104 105 106 107 108 109 110 111]\n",
      " [112 113 114 115 116 117 118 119 120 121 122 123 124 125 126 127]\n",
      " [128 129 130 131 132 133 134 135 136 137 138 139 140 141 142 143]\n",
      " [144 145 146 147 148 149 150 151 152 153 154 155 156 157 158 159]]\n",
      "\n",
      "[[ 6  7  8]\n",
      " [22 23 24]\n",
      " [38 39 40]]\n",
      "\n",
      "\n",
      "[[  0   1   2   3   4   5   6   7   8   9  10  11  12  13  14  15]\n",
      " [ 16  17  18  19  20  21  22  23  24  25  26  27  28  29  30  31]\n",
      " [ 32  33  34  35  36  37  38  39  40  41  42  43  44  45  46  47]\n",
      " [ 48  49  50  51  52  53  54  55  56  57  58  59  60  61  62  63]\n",
      " [ 64  65  66  67  68  69  70  71  72  73  74  75  76  77  78  79]\n",
      " [ 80  81  82  83  84  85  86  87  88  89  90  91  92  93  94  95]\n",
      " [ 96  97  98  99 100 101 102 103 104 105 106 107 108 109 110 111]\n",
      " [112 113 114 115 116 117 118 119 120 121 122 123 124 125 126 127]\n",
      " [128 129 130 131 132 133 134 135 136 137 138 139 140 141 142 143]\n",
      " [144 145 146 147 148 149 150 151 152 153 154 155 156 157 158 159]]\n",
      "\n",
      "[[ 9 10 11]\n",
      " [25 26 27]\n",
      " [41 42 43]]\n",
      "\n",
      "\n",
      "[[  0   1   2   3   4   5   6   7   8   9  10  11  12  13  14  15]\n",
      " [ 16  17  18  19  20  21  22  23  24  25  26  27  28  29  30  31]\n",
      " [ 32  33  34  35  36  37  38  39  40  41  42  43  44  45  46  47]\n",
      " [ 48  49  50  51  52  53  54  55  56  57  58  59  60  61  62  63]\n",
      " [ 64  65  66  67  68  69  70  71  72  73  74  75  76  77  78  79]\n",
      " [ 80  81  82  83  84  85  86  87  88  89  90  91  92  93  94  95]\n",
      " [ 96  97  98  99 100 101 102 103 104 105 106 107 108 109 110 111]\n",
      " [112 113 114 115 116 117 118 119 120 121 122 123 124 125 126 127]\n",
      " [128 129 130 131 132 133 134 135 136 137 138 139 140 141 142 143]\n",
      " [144 145 146 147 148 149 150 151 152 153 154 155 156 157 158 159]]\n",
      "\n",
      "[[12 13 14]\n",
      " [28 29 30]\n",
      " [44 45 46]]\n",
      "\n",
      "\n",
      "[[  0   1   2   3   4   5   6   7   8   9  10  11  12  13  14  15]\n",
      " [ 16  17  18  19  20  21  22  23  24  25  26  27  28  29  30  31]\n",
      " [ 32  33  34  35  36  37  38  39  40  41  42  43  44  45  46  47]\n",
      " [ 48  49  50  51  52  53  54  55  56  57  58  59  60  61  62  63]\n",
      " [ 64  65  66  67  68  69  70  71  72  73  74  75  76  77  78  79]\n",
      " [ 80  81  82  83  84  85  86  87  88  89  90  91  92  93  94  95]\n",
      " [ 96  97  98  99 100 101 102 103 104 105 106 107 108 109 110 111]\n",
      " [112 113 114 115 116 117 118 119 120 121 122 123 124 125 126 127]\n",
      " [128 129 130 131 132 133 134 135 136 137 138 139 140 141 142 143]\n",
      " [144 145 146 147 148 149 150 151 152 153 154 155 156 157 158 159]]\n",
      "\n",
      "[[15]\n",
      " [31]\n",
      " [47]]\n",
      "\n",
      "\n",
      "[[  0   1   2   3   4   5   6   7   8   9  10  11  12  13  14  15]\n",
      " [ 16  17  18  19  20  21  22  23  24  25  26  27  28  29  30  31]\n",
      " [ 32  33  34  35  36  37  38  39  40  41  42  43  44  45  46  47]\n",
      " [ 48  49  50  51  52  53  54  55  56  57  58  59  60  61  62  63]\n",
      " [ 64  65  66  67  68  69  70  71  72  73  74  75  76  77  78  79]\n",
      " [ 80  81  82  83  84  85  86  87  88  89  90  91  92  93  94  95]\n",
      " [ 96  97  98  99 100 101 102 103 104 105 106 107 108 109 110 111]\n",
      " [112 113 114 115 116 117 118 119 120 121 122 123 124 125 126 127]\n",
      " [128 129 130 131 132 133 134 135 136 137 138 139 140 141 142 143]\n",
      " [144 145 146 147 148 149 150 151 152 153 154 155 156 157 158 159]]\n",
      "\n",
      "[[48 49 50]\n",
      " [64 65 66]\n",
      " [80 81 82]]\n",
      "\n",
      "\n",
      "[[  0   1   2   3   4   5   6   7   8   9  10  11  12  13  14  15]\n",
      " [ 16  17  18  19  20  21  22  23  24  25  26  27  28  29  30  31]\n",
      " [ 32  33  34  35  36  37  38  39  40  41  42  43  44  45  46  47]\n",
      " [ 48  49  50  51  52  53  54  55  56  57  58  59  60  61  62  63]\n",
      " [ 64  65  66  67  68  69  70  71  72  73  74  75  76  77  78  79]\n",
      " [ 80  81  82  83  84  85  86  87  88  89  90  91  92  93  94  95]\n",
      " [ 96  97  98  99 100 101 102 103 104 105 106 107 108 109 110 111]\n",
      " [112 113 114 115 116 117 118 119 120 121 122 123 124 125 126 127]\n",
      " [128 129 130 131 132 133 134 135 136 137 138 139 140 141 142 143]\n",
      " [144 145 146 147 148 149 150 151 152 153 154 155 156 157 158 159]]\n",
      "\n",
      "[[51 52 53]\n",
      " [67 68 69]\n",
      " [83 84 85]]\n",
      "\n",
      "\n",
      "[[  0   1   2   3   4   5   6   7   8   9  10  11  12  13  14  15]\n",
      " [ 16  17  18  19  20  21  22  23  24  25  26  27  28  29  30  31]\n",
      " [ 32  33  34  35  36  37  38  39  40  41  42  43  44  45  46  47]\n",
      " [ 48  49  50  51  52  53  54  55  56  57  58  59  60  61  62  63]\n",
      " [ 64  65  66  67  68  69  70  71  72  73  74  75  76  77  78  79]\n",
      " [ 80  81  82  83  84  85  86  87  88  89  90  91  92  93  94  95]\n",
      " [ 96  97  98  99 100 101 102 103 104 105 106 107 108 109 110 111]\n",
      " [112 113 114 115 116 117 118 119 120 121 122 123 124 125 126 127]\n",
      " [128 129 130 131 132 133 134 135 136 137 138 139 140 141 142 143]\n",
      " [144 145 146 147 148 149 150 151 152 153 154 155 156 157 158 159]]\n",
      "\n",
      "[[54 55 56]\n",
      " [70 71 72]\n",
      " [86 87 88]]\n",
      "\n",
      "\n",
      "[[  0   1   2   3   4   5   6   7   8   9  10  11  12  13  14  15]\n",
      " [ 16  17  18  19  20  21  22  23  24  25  26  27  28  29  30  31]\n",
      " [ 32  33  34  35  36  37  38  39  40  41  42  43  44  45  46  47]\n",
      " [ 48  49  50  51  52  53  54  55  56  57  58  59  60  61  62  63]\n",
      " [ 64  65  66  67  68  69  70  71  72  73  74  75  76  77  78  79]\n",
      " [ 80  81  82  83  84  85  86  87  88  89  90  91  92  93  94  95]\n",
      " [ 96  97  98  99 100 101 102 103 104 105 106 107 108 109 110 111]\n",
      " [112 113 114 115 116 117 118 119 120 121 122 123 124 125 126 127]\n",
      " [128 129 130 131 132 133 134 135 136 137 138 139 140 141 142 143]\n",
      " [144 145 146 147 148 149 150 151 152 153 154 155 156 157 158 159]]\n",
      "\n",
      "[[57 58 59]\n",
      " [73 74 75]\n",
      " [89 90 91]]\n",
      "\n",
      "\n",
      "[[  0   1   2   3   4   5   6   7   8   9  10  11  12  13  14  15]\n",
      " [ 16  17  18  19  20  21  22  23  24  25  26  27  28  29  30  31]\n",
      " [ 32  33  34  35  36  37  38  39  40  41  42  43  44  45  46  47]\n",
      " [ 48  49  50  51  52  53  54  55  56  57  58  59  60  61  62  63]\n",
      " [ 64  65  66  67  68  69  70  71  72  73  74  75  76  77  78  79]\n",
      " [ 80  81  82  83  84  85  86  87  88  89  90  91  92  93  94  95]\n",
      " [ 96  97  98  99 100 101 102 103 104 105 106 107 108 109 110 111]\n",
      " [112 113 114 115 116 117 118 119 120 121 122 123 124 125 126 127]\n",
      " [128 129 130 131 132 133 134 135 136 137 138 139 140 141 142 143]\n",
      " [144 145 146 147 148 149 150 151 152 153 154 155 156 157 158 159]]\n",
      "\n",
      "[[60 61 62]\n",
      " [76 77 78]\n",
      " [92 93 94]]\n",
      "\n",
      "\n",
      "[[  0   1   2   3   4   5   6   7   8   9  10  11  12  13  14  15]\n",
      " [ 16  17  18  19  20  21  22  23  24  25  26  27  28  29  30  31]\n",
      " [ 32  33  34  35  36  37  38  39  40  41  42  43  44  45  46  47]\n",
      " [ 48  49  50  51  52  53  54  55  56  57  58  59  60  61  62  63]\n",
      " [ 64  65  66  67  68  69  70  71  72  73  74  75  76  77  78  79]\n",
      " [ 80  81  82  83  84  85  86  87  88  89  90  91  92  93  94  95]\n",
      " [ 96  97  98  99 100 101 102 103 104 105 106 107 108 109 110 111]\n",
      " [112 113 114 115 116 117 118 119 120 121 122 123 124 125 126 127]\n",
      " [128 129 130 131 132 133 134 135 136 137 138 139 140 141 142 143]\n",
      " [144 145 146 147 148 149 150 151 152 153 154 155 156 157 158 159]]\n",
      "\n",
      "[[63]\n",
      " [79]\n",
      " [95]]\n",
      "\n",
      "\n",
      "[[  0   1   2   3   4   5   6   7   8   9  10  11  12  13  14  15]\n",
      " [ 16  17  18  19  20  21  22  23  24  25  26  27  28  29  30  31]\n",
      " [ 32  33  34  35  36  37  38  39  40  41  42  43  44  45  46  47]\n",
      " [ 48  49  50  51  52  53  54  55  56  57  58  59  60  61  62  63]\n",
      " [ 64  65  66  67  68  69  70  71  72  73  74  75  76  77  78  79]\n",
      " [ 80  81  82  83  84  85  86  87  88  89  90  91  92  93  94  95]\n",
      " [ 96  97  98  99 100 101 102 103 104 105 106 107 108 109 110 111]\n",
      " [112 113 114 115 116 117 118 119 120 121 122 123 124 125 126 127]\n",
      " [128 129 130 131 132 133 134 135 136 137 138 139 140 141 142 143]\n",
      " [144 145 146 147 148 149 150 151 152 153 154 155 156 157 158 159]]\n",
      "\n",
      "[[ 96  97  98]\n",
      " [112 113 114]\n",
      " [128 129 130]]\n",
      "\n",
      "\n",
      "[[  0   1   2   3   4   5   6   7   8   9  10  11  12  13  14  15]\n",
      " [ 16  17  18  19  20  21  22  23  24  25  26  27  28  29  30  31]\n",
      " [ 32  33  34  35  36  37  38  39  40  41  42  43  44  45  46  47]\n",
      " [ 48  49  50  51  52  53  54  55  56  57  58  59  60  61  62  63]\n",
      " [ 64  65  66  67  68  69  70  71  72  73  74  75  76  77  78  79]\n",
      " [ 80  81  82  83  84  85  86  87  88  89  90  91  92  93  94  95]\n",
      " [ 96  97  98  99 100 101 102 103 104 105 106 107 108 109 110 111]\n",
      " [112 113 114 115 116 117 118 119 120 121 122 123 124 125 126 127]\n",
      " [128 129 130 131 132 133 134 135 136 137 138 139 140 141 142 143]\n",
      " [144 145 146 147 148 149 150 151 152 153 154 155 156 157 158 159]]\n",
      "\n",
      "[[ 99 100 101]\n",
      " [115 116 117]\n",
      " [131 132 133]]\n",
      "\n",
      "\n",
      "[[  0   1   2   3   4   5   6   7   8   9  10  11  12  13  14  15]\n",
      " [ 16  17  18  19  20  21  22  23  24  25  26  27  28  29  30  31]\n",
      " [ 32  33  34  35  36  37  38  39  40  41  42  43  44  45  46  47]\n",
      " [ 48  49  50  51  52  53  54  55  56  57  58  59  60  61  62  63]\n",
      " [ 64  65  66  67  68  69  70  71  72  73  74  75  76  77  78  79]\n",
      " [ 80  81  82  83  84  85  86  87  88  89  90  91  92  93  94  95]\n",
      " [ 96  97  98  99 100 101 102 103 104 105 106 107 108 109 110 111]\n",
      " [112 113 114 115 116 117 118 119 120 121 122 123 124 125 126 127]\n",
      " [128 129 130 131 132 133 134 135 136 137 138 139 140 141 142 143]\n",
      " [144 145 146 147 148 149 150 151 152 153 154 155 156 157 158 159]]\n",
      "\n",
      "[[102 103 104]\n",
      " [118 119 120]\n",
      " [134 135 136]]\n",
      "\n",
      "\n",
      "[[  0   1   2   3   4   5   6   7   8   9  10  11  12  13  14  15]\n",
      " [ 16  17  18  19  20  21  22  23  24  25  26  27  28  29  30  31]\n",
      " [ 32  33  34  35  36  37  38  39  40  41  42  43  44  45  46  47]\n",
      " [ 48  49  50  51  52  53  54  55  56  57  58  59  60  61  62  63]\n",
      " [ 64  65  66  67  68  69  70  71  72  73  74  75  76  77  78  79]\n",
      " [ 80  81  82  83  84  85  86  87  88  89  90  91  92  93  94  95]\n",
      " [ 96  97  98  99 100 101 102 103 104 105 106 107 108 109 110 111]\n",
      " [112 113 114 115 116 117 118 119 120 121 122 123 124 125 126 127]\n",
      " [128 129 130 131 132 133 134 135 136 137 138 139 140 141 142 143]\n",
      " [144 145 146 147 148 149 150 151 152 153 154 155 156 157 158 159]]\n",
      "\n",
      "[[105 106 107]\n",
      " [121 122 123]\n",
      " [137 138 139]]\n",
      "\n",
      "\n",
      "[[  0   1   2   3   4   5   6   7   8   9  10  11  12  13  14  15]\n",
      " [ 16  17  18  19  20  21  22  23  24  25  26  27  28  29  30  31]\n",
      " [ 32  33  34  35  36  37  38  39  40  41  42  43  44  45  46  47]\n",
      " [ 48  49  50  51  52  53  54  55  56  57  58  59  60  61  62  63]\n",
      " [ 64  65  66  67  68  69  70  71  72  73  74  75  76  77  78  79]\n",
      " [ 80  81  82  83  84  85  86  87  88  89  90  91  92  93  94  95]\n",
      " [ 96  97  98  99 100 101 102 103 104 105 106 107 108 109 110 111]\n",
      " [112 113 114 115 116 117 118 119 120 121 122 123 124 125 126 127]\n",
      " [128 129 130 131 132 133 134 135 136 137 138 139 140 141 142 143]\n",
      " [144 145 146 147 148 149 150 151 152 153 154 155 156 157 158 159]]\n",
      "\n",
      "[[108 109 110]\n",
      " [124 125 126]\n",
      " [140 141 142]]\n",
      "\n",
      "\n",
      "[[  0   1   2   3   4   5   6   7   8   9  10  11  12  13  14  15]\n",
      " [ 16  17  18  19  20  21  22  23  24  25  26  27  28  29  30  31]\n",
      " [ 32  33  34  35  36  37  38  39  40  41  42  43  44  45  46  47]\n",
      " [ 48  49  50  51  52  53  54  55  56  57  58  59  60  61  62  63]\n",
      " [ 64  65  66  67  68  69  70  71  72  73  74  75  76  77  78  79]\n",
      " [ 80  81  82  83  84  85  86  87  88  89  90  91  92  93  94  95]\n",
      " [ 96  97  98  99 100 101 102 103 104 105 106 107 108 109 110 111]\n",
      " [112 113 114 115 116 117 118 119 120 121 122 123 124 125 126 127]\n",
      " [128 129 130 131 132 133 134 135 136 137 138 139 140 141 142 143]\n",
      " [144 145 146 147 148 149 150 151 152 153 154 155 156 157 158 159]]\n",
      "\n",
      "[[111]\n",
      " [127]\n",
      " [143]]\n",
      "\n",
      "\n",
      "[[  0   1   2   3   4   5   6   7   8   9  10  11  12  13  14  15]\n",
      " [ 16  17  18  19  20  21  22  23  24  25  26  27  28  29  30  31]\n",
      " [ 32  33  34  35  36  37  38  39  40  41  42  43  44  45  46  47]\n",
      " [ 48  49  50  51  52  53  54  55  56  57  58  59  60  61  62  63]\n",
      " [ 64  65  66  67  68  69  70  71  72  73  74  75  76  77  78  79]\n",
      " [ 80  81  82  83  84  85  86  87  88  89  90  91  92  93  94  95]\n",
      " [ 96  97  98  99 100 101 102 103 104 105 106 107 108 109 110 111]\n",
      " [112 113 114 115 116 117 118 119 120 121 122 123 124 125 126 127]\n",
      " [128 129 130 131 132 133 134 135 136 137 138 139 140 141 142 143]\n",
      " [144 145 146 147 148 149 150 151 152 153 154 155 156 157 158 159]]\n",
      "\n",
      "[[144 145 146]]\n",
      "\n",
      "\n",
      "[[  0   1   2   3   4   5   6   7   8   9  10  11  12  13  14  15]\n",
      " [ 16  17  18  19  20  21  22  23  24  25  26  27  28  29  30  31]\n",
      " [ 32  33  34  35  36  37  38  39  40  41  42  43  44  45  46  47]\n",
      " [ 48  49  50  51  52  53  54  55  56  57  58  59  60  61  62  63]\n",
      " [ 64  65  66  67  68  69  70  71  72  73  74  75  76  77  78  79]\n",
      " [ 80  81  82  83  84  85  86  87  88  89  90  91  92  93  94  95]\n",
      " [ 96  97  98  99 100 101 102 103 104 105 106 107 108 109 110 111]\n",
      " [112 113 114 115 116 117 118 119 120 121 122 123 124 125 126 127]\n",
      " [128 129 130 131 132 133 134 135 136 137 138 139 140 141 142 143]\n",
      " [144 145 146 147 148 149 150 151 152 153 154 155 156 157 158 159]]\n",
      "\n",
      "[[147 148 149]]\n",
      "\n",
      "\n",
      "[[  0   1   2   3   4   5   6   7   8   9  10  11  12  13  14  15]\n",
      " [ 16  17  18  19  20  21  22  23  24  25  26  27  28  29  30  31]\n",
      " [ 32  33  34  35  36  37  38  39  40  41  42  43  44  45  46  47]\n",
      " [ 48  49  50  51  52  53  54  55  56  57  58  59  60  61  62  63]\n",
      " [ 64  65  66  67  68  69  70  71  72  73  74  75  76  77  78  79]\n",
      " [ 80  81  82  83  84  85  86  87  88  89  90  91  92  93  94  95]\n",
      " [ 96  97  98  99 100 101 102 103 104 105 106 107 108 109 110 111]\n",
      " [112 113 114 115 116 117 118 119 120 121 122 123 124 125 126 127]\n",
      " [128 129 130 131 132 133 134 135 136 137 138 139 140 141 142 143]\n",
      " [144 145 146 147 148 149 150 151 152 153 154 155 156 157 158 159]]\n",
      "\n",
      "[[150 151 152]]\n",
      "\n",
      "\n",
      "[[  0   1   2   3   4   5   6   7   8   9  10  11  12  13  14  15]\n",
      " [ 16  17  18  19  20  21  22  23  24  25  26  27  28  29  30  31]\n",
      " [ 32  33  34  35  36  37  38  39  40  41  42  43  44  45  46  47]\n",
      " [ 48  49  50  51  52  53  54  55  56  57  58  59  60  61  62  63]\n",
      " [ 64  65  66  67  68  69  70  71  72  73  74  75  76  77  78  79]\n",
      " [ 80  81  82  83  84  85  86  87  88  89  90  91  92  93  94  95]\n",
      " [ 96  97  98  99 100 101 102 103 104 105 106 107 108 109 110 111]\n",
      " [112 113 114 115 116 117 118 119 120 121 122 123 124 125 126 127]\n",
      " [128 129 130 131 132 133 134 135 136 137 138 139 140 141 142 143]\n",
      " [144 145 146 147 148 149 150 151 152 153 154 155 156 157 158 159]]\n",
      "\n",
      "[[153 154 155]]\n",
      "\n",
      "\n",
      "[[  0   1   2   3   4   5   6   7   8   9  10  11  12  13  14  15]\n",
      " [ 16  17  18  19  20  21  22  23  24  25  26  27  28  29  30  31]\n",
      " [ 32  33  34  35  36  37  38  39  40  41  42  43  44  45  46  47]\n",
      " [ 48  49  50  51  52  53  54  55  56  57  58  59  60  61  62  63]\n",
      " [ 64  65  66  67  68  69  70  71  72  73  74  75  76  77  78  79]\n",
      " [ 80  81  82  83  84  85  86  87  88  89  90  91  92  93  94  95]\n",
      " [ 96  97  98  99 100 101 102 103 104 105 106 107 108 109 110 111]\n",
      " [112 113 114 115 116 117 118 119 120 121 122 123 124 125 126 127]\n",
      " [128 129 130 131 132 133 134 135 136 137 138 139 140 141 142 143]\n",
      " [144 145 146 147 148 149 150 151 152 153 154 155 156 157 158 159]]\n",
      "\n",
      "[[156 157 158]]\n",
      "\n",
      "\n",
      "[[  0   1   2   3   4   5   6   7   8   9  10  11  12  13  14  15]\n",
      " [ 16  17  18  19  20  21  22  23  24  25  26  27  28  29  30  31]\n",
      " [ 32  33  34  35  36  37  38  39  40  41  42  43  44  45  46  47]\n",
      " [ 48  49  50  51  52  53  54  55  56  57  58  59  60  61  62  63]\n",
      " [ 64  65  66  67  68  69  70  71  72  73  74  75  76  77  78  79]\n",
      " [ 80  81  82  83  84  85  86  87  88  89  90  91  92  93  94  95]\n",
      " [ 96  97  98  99 100 101 102 103 104 105 106 107 108 109 110 111]\n",
      " [112 113 114 115 116 117 118 119 120 121 122 123 124 125 126 127]\n",
      " [128 129 130 131 132 133 134 135 136 137 138 139 140 141 142 143]\n",
      " [144 145 146 147 148 149 150 151 152 153 154 155 156 157 158 159]]\n",
      "\n",
      "[[159]]\n",
      "\n",
      "\n"
     ]
    }
   ],
   "source": [
    "import numpy as np\n",
    "\n",
    "def process_subarrays(arr, n):\n",
    "    nx, ny = arr.shape\n",
    "    for x in range(0, nx, n):\n",
    "        for y in range(0, ny, n):\n",
    "            sub_nx = min(n, nx - x)\n",
    "            sub_ny = min(n, ny - y)\n",
    "            sub_array = arr[x:x+sub_nx, y:y+sub_ny]\n",
    "            # Process sub_array here\n",
    "            print(arr)\n",
    "            print(\"\")\n",
    "            print(sub_array)  # Example processing step\n",
    "            print(\"\")\n",
    "            print(\"\")\n",
    "\n",
    "# Example usage\n",
    "nx, ny = 10, 16  # Dimensions of the main array\n",
    "n = 3  # Size of the sub-array\n",
    "arr = np.arange(nx*ny).reshape(nx, ny)  # Create a 2D array for demonstration\n",
    "process_subarrays(arr, n)"
   ]
  },
  {
   "cell_type": "code",
   "execution_count": 74,
   "id": "3fb1223d-c9c5-4736-a432-90ee4f590e9d",
   "metadata": {
    "execution": {
     "iopub.execute_input": "2024-03-18T18:59:07.119665Z",
     "iopub.status.busy": "2024-03-18T18:59:07.119353Z",
     "iopub.status.idle": "2024-03-18T18:59:07.178730Z",
     "shell.execute_reply": "2024-03-18T18:59:07.178386Z",
     "shell.execute_reply.started": "2024-03-18T18:59:07.119650Z"
    }
   },
   "outputs": [],
   "source": [
    "bad, good = ctUtils.findGoodPixelsAroundBadPixels(maskedImage, [\"BAD\", \"SAT\", \"CR\", \"EDGE\"], buffer=15,)"
   ]
  },
  {
   "cell_type": "code",
   "execution_count": 75,
   "id": "d92adeac-4257-471d-b95a-8621fa2db0f7",
   "metadata": {
    "execution": {
     "iopub.execute_input": "2024-03-18T18:59:08.454175Z",
     "iopub.status.busy": "2024-03-18T18:59:08.453881Z",
     "iopub.status.idle": "2024-03-18T18:59:08.456942Z",
     "shell.execute_reply": "2024-03-18T18:59:08.456645Z",
     "shell.execute_reply.started": "2024-03-18T18:59:08.454162Z"
    }
   },
   "outputs": [
    {
     "data": {
      "text/plain": [
       "(262709, 3)"
      ]
     },
     "execution_count": 75,
     "metadata": {},
     "output_type": "execute_result"
    }
   ],
   "source": [
    "bad.shape"
   ]
  },
  {
   "cell_type": "code",
   "execution_count": 76,
   "id": "060e019c-8171-429d-a02c-a15dcf285c3c",
   "metadata": {
    "execution": {
     "iopub.execute_input": "2024-03-18T18:59:09.728811Z",
     "iopub.status.busy": "2024-03-18T18:59:09.728548Z",
     "iopub.status.idle": "2024-03-18T18:59:09.731628Z",
     "shell.execute_reply": "2024-03-18T18:59:09.731324Z",
     "shell.execute_reply.started": "2024-03-18T18:59:09.728798Z"
    }
   },
   "outputs": [
    {
     "data": {
      "text/plain": [
       "(442300, 3)"
      ]
     },
     "execution_count": 76,
     "metadata": {},
     "output_type": "execute_result"
    }
   ],
   "source": [
    "good.shape"
   ]
  },
  {
   "cell_type": "code",
   "execution_count": 77,
   "id": "b21f807c-adf2-4cb6-ba54-e0a47560d66f",
   "metadata": {
    "execution": {
     "iopub.execute_input": "2024-03-18T18:59:13.171867Z",
     "iopub.status.busy": "2024-03-18T18:59:13.171472Z",
     "iopub.status.idle": "2024-03-18T18:59:13.174524Z",
     "shell.execute_reply": "2024-03-18T18:59:13.174234Z",
     "shell.execute_reply.started": "2024-03-18T18:59:13.171854Z"
    }
   },
   "outputs": [
    {
     "data": {
      "text/plain": [
       "(8552448,)"
      ]
     },
     "execution_count": 77,
     "metadata": {},
     "output_type": "execute_result"
    }
   ],
   "source": [
    "A = maskedImage.getImage()\n",
    "A.array.reshape(-1).shape"
   ]
  },
  {
   "cell_type": "code",
   "execution_count": 79,
   "id": "1ca797a1-b81b-4377-94d6-c9dec3450b1a",
   "metadata": {
    "execution": {
     "iopub.execute_input": "2024-03-18T18:59:25.987411Z",
     "iopub.status.busy": "2024-03-18T18:59:25.986954Z",
     "iopub.status.idle": "2024-03-18T18:59:25.989790Z",
     "shell.execute_reply": "2024-03-18T18:59:25.989512Z",
     "shell.execute_reply.started": "2024-03-18T18:59:25.987397Z"
    }
   },
   "outputs": [
    {
     "data": {
      "text/plain": [
       "0.05171618699113985"
      ]
     },
     "execution_count": 79,
     "metadata": {},
     "output_type": "execute_result"
    }
   ],
   "source": [
    "442300 / 8552448"
   ]
  },
  {
   "cell_type": "code",
   "execution_count": 80,
   "id": "2c1c15a8-a588-4690-bb3f-ce0e55a476e9",
   "metadata": {
    "execution": {
     "iopub.execute_input": "2024-03-18T19:12:57.508157Z",
     "iopub.status.busy": "2024-03-18T19:12:57.507740Z",
     "iopub.status.idle": "2024-03-18T19:12:57.510816Z",
     "shell.execute_reply": "2024-03-18T19:12:57.510493Z",
     "shell.execute_reply.started": "2024-03-18T19:12:57.508141Z"
    }
   },
   "outputs": [],
   "source": [
    "class GaussianProcessHODLRSolver():\n",
    "\n",
    "    def __init__(self, variance=1., correlation_length=1., white_noise=0., mean=0.):\n",
    "        \n",
    "        self.variance = variance\n",
    "        self.correlation_lenght = correlation_length\n",
    "        self.white_noise  = white_noise\n",
    "        self.mean = mean\n",
    "\n",
    "    @timer\n",
    "    def fit(self, x, y):\n",
    "        kernel = self.variance * kernels.ExpSquaredKernel(self.correlation_length, ndim=2)\n",
    "        self.gp = george.GP(kernel, mean=self.mean,\n",
    "                            fit_kernel=False,\n",
    "                            solver=george.HODLRSolver, seed=42)\n",
    "        self.gp.compute(x, yerr=self.white_noise)\n",
    "        self._y = y\n",
    "\n",
    "    @timer\n",
    "    def predict(self, x):\n",
    "        y_pred = self.gp.predict(self._y, x, return_var=False, return_cov=False)\n",
    "        return y_pred\n",
    "\n",
    "\n",
    "class InterpolateOverDefectGaussianProcess():\n",
    "\n",
    "    @timer\n",
    "    def __init__(self, maskedImage, defects=[\"BAD\", \"SAT\", \"CR\", \"EDGE\"], fwhm=5, block_size=100):\n",
    "\n",
    "        self.maskedImage = maskedImage\n",
    "        self.defects = defects\n",
    "\n",
    "        # Define hyperparameters for GPs.\n",
    "        # Kernel would be isotropic RBF (simple / agnostic choice)\n",
    "        # Amplitude of the kernel would be variance observed on the image.\n",
    "        # Correlation lenght would be PSF size.\n",
    "        # White noise would be standard deviation of the variance map.\n",
    "        # Mean would be set to the mean in the whole CCD.\n",
    "        # In order to do processing fast, sub-divide GP computation on a block.\n",
    "        # Block shape is block_size * block_size\n",
    "\n",
    "        self.correlation_lenght = fwhm\n",
    "        self.white_noise = np.sqrt(np.mean(maskedImage.getVariance().array))\n",
    "        self.kernel_amplitude = np.var(maskedImage.getImage().array) - self.white_noise**2\n",
    "        self.mean = np.mean(maskedImage.getImage().array)\n",
    "\n",
    "        self.block_size = block_size\n",
    "\n",
    "    @timer\n",
    "    def interpolate_over_defects(self):\n",
    "\n",
    "        nx = self.maskedImage.getDimensions()[0]\n",
    "        ny = self.maskedImage.getDimensions()[1]\n",
    "        for x in range(0, nx, n):\n",
    "            for y in range(0, ny, n):\n",
    "                sub_nx = min(n, nx - x)\n",
    "                sub_ny = min(n, ny - y)\n",
    "                sub_masked_image = self.maskedImage[x:x+sub_nx, y:y+sub_ny]\n",
    "                sub_masked_image = self.interpolate_sub_masked_image(sub_masked_image)\n",
    "                self.maskedImage[x:x+sub_nx, y:y+sub_ny] = sub_masked_image\n",
    "\n",
    "\n",
    "    @timer\n",
    "    def interpolate_sub_masked_image(self, sub_masked_image):\n",
    "\n",
    "        cut = self.correlation_lenght * 3\n",
    "        bad_pixel, good_pixel = ctUtils.findGoodPixelsAroundBadPixels(sub_masked_image, self.defects, buffer=cut)\n",
    "\n",
    "        # gp interpolation\n",
    "        gp_hodlr = GaussianProcessHODLRSolver(variance=self.kernel_amplitude, correlation_length=self.correlation_lenght,\n",
    "                                              white_noise=self.white_noise, mean=self.mean)\n",
    "        gp.fit(good_pixel[:,:2], good_pixel[:,2:])\n",
    "        bad_pixel[:,2:] = gp.predict(bad_pixel[:,:2])\n",
    "\n",
    "        # update_value\n",
    "        ctUtils.updateImageFromArray(sub_masked_image.image, bad_pixel)\n",
    "\n",
    "        return sub_masked_image\n",
    "\n",
    "        \n",
    "\n",
    "\n",
    "                \n",
    "        \n",
    "\n",
    "        \n"
   ]
  },
  {
   "cell_type": "code",
   "execution_count": 82,
   "id": "9be126a2-fcc9-4806-8162-0ac1a20fc99f",
   "metadata": {
    "execution": {
     "iopub.execute_input": "2024-03-18T19:28:33.874919Z",
     "iopub.status.busy": "2024-03-18T19:28:33.874582Z",
     "iopub.status.idle": "2024-03-18T19:28:33.878043Z",
     "shell.execute_reply": "2024-03-18T19:28:33.877732Z",
     "shell.execute_reply.started": "2024-03-18T19:28:33.874904Z"
    }
   },
   "outputs": [
    {
     "data": {
      "text/plain": [
       "array([[  39.178364,   62.77914 ,   85.46108 , ...,   82.15378 ,\n",
       "          63.058716,   37.5518  ],\n",
       "       [  42.757584,   66.50141 ,   86.16903 , ...,   84.81048 ,\n",
       "          65.40809 ,   42.3724  ],\n",
       "       [  45.980587,   69.65063 ,   86.82527 , ...,   87.55836 ,\n",
       "          68.34259 ,   44.14074 ],\n",
       "       ...,\n",
       "       [ 661.9505  ,  376.6934  ,  353.48422 , ...,  791.00854 ,\n",
       "         777.96826 ,  816.783   ],\n",
       "       [1338.491   ,  757.10565 ,  690.22394 , ..., 1642.8285  ,\n",
       "        1497.0394  , 1360.4352  ],\n",
       "       [1764.0193  , 1413.1307  , 1280.6003  , ..., 2447.6067  ,\n",
       "        2368.0774  , 2222.8623  ]], dtype=float32)"
      ]
     },
     "execution_count": 82,
     "metadata": {},
     "output_type": "execute_result"
    }
   ],
   "source": [
    "maskedImage.getVariance().array"
   ]
  },
  {
   "cell_type": "code",
   "execution_count": 101,
   "id": "8476146c-91a4-440e-87e4-68607eed9ad2",
   "metadata": {
    "execution": {
     "iopub.execute_input": "2024-03-18T19:49:37.516680Z",
     "iopub.status.busy": "2024-03-18T19:49:37.516235Z",
     "iopub.status.idle": "2024-03-18T19:49:37.519866Z",
     "shell.execute_reply": "2024-03-18T19:49:37.519442Z",
     "shell.execute_reply.started": "2024-03-18T19:49:37.516659Z"
    }
   },
   "outputs": [
    {
     "data": {
      "text/plain": [
       "array([[  17.,    0.],\n",
       "       [  18.,    0.],\n",
       "       [  19.,    0.],\n",
       "       ...,\n",
       "       [1995., 4155.],\n",
       "       [1996., 4155.],\n",
       "       [1997., 4155.]], dtype=float32)"
      ]
     },
     "execution_count": 101,
     "metadata": {},
     "output_type": "execute_result"
    }
   ],
   "source": [
    "good[:,:2]"
   ]
  },
  {
   "cell_type": "code",
   "execution_count": 86,
   "id": "e78dcafe-9699-4736-b79f-8940534cce0c",
   "metadata": {
    "execution": {
     "iopub.execute_input": "2024-03-18T19:34:54.306205Z",
     "iopub.status.busy": "2024-03-18T19:34:54.306013Z",
     "iopub.status.idle": "2024-03-18T19:34:54.308884Z",
     "shell.execute_reply": "2024-03-18T19:34:54.308501Z",
     "shell.execute_reply.started": "2024-03-18T19:34:54.306191Z"
    }
   },
   "outputs": [],
   "source": [
    "maskedImage[0:100,0:100] = maskedImage[0:100,0:100] "
   ]
  },
  {
   "cell_type": "code",
   "execution_count": 89,
   "id": "1b7eda84-d489-4a9a-9c31-86076d87169c",
   "metadata": {
    "execution": {
     "iopub.execute_input": "2024-03-18T19:36:46.788348Z",
     "iopub.status.busy": "2024-03-18T19:36:46.788006Z",
     "iopub.status.idle": "2024-03-18T19:36:46.791276Z",
     "shell.execute_reply": "2024-03-18T19:36:46.790916Z",
     "shell.execute_reply.started": "2024-03-18T19:36:46.788331Z"
    }
   },
   "outputs": [
    {
     "data": {
      "text/plain": [
       "2048"
      ]
     },
     "execution_count": 89,
     "metadata": {},
     "output_type": "execute_result"
    }
   ],
   "source": [
    "maskedImage.getDimensions()[0]"
   ]
  },
  {
   "cell_type": "code",
   "execution_count": 104,
   "id": "ff7b6db9-d568-48f7-a743-13dda0a36c17",
   "metadata": {
    "execution": {
     "iopub.execute_input": "2024-03-18T19:54:19.237900Z",
     "iopub.status.busy": "2024-03-18T19:54:19.237695Z",
     "iopub.status.idle": "2024-03-18T19:54:19.240445Z",
     "shell.execute_reply": "2024-03-18T19:54:19.240130Z",
     "shell.execute_reply.started": "2024-03-18T19:54:19.237886Z"
    }
   },
   "outputs": [
    {
     "name": "stdout",
     "output_type": "stream",
     "text": [
      "Help on built-in function updateImageFromArray in module lsst.meas.algorithms:\n",
      "\n",
      "updateImageFromArray(...) method of builtins.PyCapsule instance\n",
      "    updateImageFromArray(image: lsst.afw.image._image.ImageF, array: numpy.ndarray) -> None\n",
      "\n"
     ]
    }
   ],
   "source": [
    "help(ctUtils.updateImageFromArray)"
   ]
  },
  {
   "cell_type": "code",
   "execution_count": null,
   "id": "8633e57e-60fd-4375-81db-c0c8ed4a7df0",
   "metadata": {},
   "outputs": [],
   "source": []
  }
 ],
 "metadata": {
  "kernelspec": {
   "display_name": "LSST",
   "language": "python",
   "name": "lsst"
  },
  "language_info": {
   "codemirror_mode": {
    "name": "ipython",
    "version": 3
   },
   "file_extension": ".py",
   "mimetype": "text/x-python",
   "name": "python",
   "nbconvert_exporter": "python",
   "pygments_lexer": "ipython3",
   "version": "3.11.7"
  }
 },
 "nbformat": 4,
 "nbformat_minor": 5
}
