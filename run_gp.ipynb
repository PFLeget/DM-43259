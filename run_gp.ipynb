{
 "cells": [
  {
   "cell_type": "code",
   "execution_count": 1,
   "id": "f79bc1a9-2bda-48a0-b173-df842f170c71",
   "metadata": {
    "execution": {
     "iopub.execute_input": "2024-05-16T17:58:20.348986Z",
     "iopub.status.busy": "2024-05-16T17:58:20.348675Z",
     "iopub.status.idle": "2024-05-16T17:58:22.809787Z",
     "shell.execute_reply": "2024-05-16T17:58:22.809269Z",
     "shell.execute_reply.started": "2024-05-16T17:58:20.348972Z"
    }
   },
   "outputs": [],
   "source": [
    "import numpy as np\n",
    "import matplotlib.pyplot as plt\n",
    "from matplotlib.colors import LogNorm\n",
    "import pickle\n",
    "import copy\n",
    "\n",
    "import pandas as pd\n",
    "import time\n",
    "\n",
    "from interpolate_over import InterpolateOverDefectGaussianProcess, meanify\n",
    "from lsst.meas.algorithms import CloughTocher2DInterpolatorUtils as ctUtils\n",
    "\n",
    "#%matplotlib widget"
   ]
  },
  {
   "cell_type": "code",
   "execution_count": 2,
   "id": "089be3d7-d32c-4b3a-950a-3723b67246a1",
   "metadata": {
    "execution": {
     "iopub.execute_input": "2024-05-16T17:58:24.896662Z",
     "iopub.status.busy": "2024-05-16T17:58:24.896359Z",
     "iopub.status.idle": "2024-05-16T17:58:25.443859Z",
     "shell.execute_reply": "2024-05-16T17:58:25.443266Z",
     "shell.execute_reply.started": "2024-05-16T17:58:24.896649Z"
    }
   },
   "outputs": [
    {
     "name": "stdout",
     "output_type": "stream",
     "text": [
      "treegp | Cholesky + Binned 2d Scipy | spanset\n"
     ]
    },
    {
     "ename": "TypeError",
     "evalue": "InterpolateOverDefectGaussianProcess.__init__() got an unexpected keyword argument 'solver'",
     "output_type": "error",
     "traceback": [
      "\u001b[0;31m---------------------------------------------------------------------------\u001b[0m",
      "\u001b[0;31mTypeError\u001b[0m                                 Traceback (most recent call last)",
      "Cell \u001b[0;32mIn[2], line 19\u001b[0m\n\u001b[1;32m     17\u001b[0m \u001b[38;5;28mprint\u001b[39m(\u001b[38;5;124mf\u001b[39m\u001b[38;5;124m'\u001b[39m\u001b[38;5;132;01m{\u001b[39;00ms\u001b[38;5;132;01m}\u001b[39;00m\u001b[38;5;124m | \u001b[39m\u001b[38;5;132;01m{\u001b[39;00msolvers_method[i]\u001b[38;5;132;01m}\u001b[39;00m\u001b[38;5;124m | \u001b[39m\u001b[38;5;132;01m{\u001b[39;00mm\u001b[38;5;132;01m}\u001b[39;00m\u001b[38;5;124m'\u001b[39m)\n\u001b[1;32m     18\u001b[0m to_interpolate \u001b[38;5;241m=\u001b[39m copy\u001b[38;5;241m.\u001b[39mdeepcopy(maskedImage)\n\u001b[0;32m---> 19\u001b[0m GP \u001b[38;5;241m=\u001b[39m \u001b[43mInterpolateOverDefectGaussianProcess\u001b[49m\u001b[43m(\u001b[49m\u001b[43mto_interpolate\u001b[49m\u001b[43m,\u001b[49m\u001b[43m \u001b[49m\u001b[43mdefects\u001b[49m\u001b[38;5;241;43m=\u001b[39;49m\u001b[43m[\u001b[49m\u001b[38;5;124;43m\"\u001b[39;49m\u001b[38;5;124;43mSAT\u001b[39;49m\u001b[38;5;124;43m\"\u001b[39;49m\u001b[43m]\u001b[49m\u001b[43m,\u001b[49m\n\u001b[1;32m     20\u001b[0m \u001b[43m                                          \u001b[49m\u001b[43mfwhm\u001b[49m\u001b[38;5;241;43m=\u001b[39;49m\u001b[38;5;241;43m15\u001b[39;49m\u001b[43m,\u001b[49m\u001b[43m \u001b[49m\u001b[43mblock_size\u001b[49m\u001b[38;5;241;43m=\u001b[39;49m\u001b[38;5;241;43m40\u001b[39;49m\u001b[43m,\u001b[49m\u001b[43m \u001b[49m\u001b[43msolver\u001b[49m\u001b[38;5;241;43m=\u001b[39;49m\u001b[43ms\u001b[49m\u001b[43m,\u001b[49m\n\u001b[1;32m     21\u001b[0m \u001b[43m                                          \u001b[49m\u001b[43mmethod\u001b[49m\u001b[38;5;241;43m=\u001b[39;49m\u001b[43mm\u001b[49m\u001b[43m,\u001b[49m\u001b[43m \u001b[49m\u001b[43mbin_spacing\u001b[49m\u001b[38;5;241;43m=\u001b[39;49m\u001b[38;5;241;43m15\u001b[39;49m\u001b[43m,\u001b[49m\u001b[43m \u001b[49m\u001b[43muse_binning\u001b[49m\u001b[38;5;241;43m=\u001b[39;49m\u001b[38;5;28;43;01mTrue\u001b[39;49;00m\u001b[43m)\u001b[49m\n\u001b[1;32m     23\u001b[0m \u001b[38;5;66;03m# Perform the interpolation and record the time for each solver and method\u001b[39;00m\n\u001b[1;32m     24\u001b[0m start_time \u001b[38;5;241m=\u001b[39m time\u001b[38;5;241m.\u001b[39mtime()\n",
      "\u001b[0;31mTypeError\u001b[0m: InterpolateOverDefectGaussianProcess.__init__() got an unexpected keyword argument 'solver'"
     ]
    }
   ],
   "source": [
    "dic = pickle.load(open(\"data/out_test_0.pkl\", \"rb\"))\n",
    "maskedImage = dic['in']['maskedImage']\n",
    "\n",
    "#solvers = ['treegp', 'george', 'gpytorch']\n",
    "#solvers_method = ['cholesky', 'HODLR', 'GPExact']\n",
    "#methods = ['block', 'spanset']\n",
    "solvers = ['treegp']\n",
    "solvers_method = ['Cholesky + Binned 2d Scipy']\n",
    "methods = ['spanset']\n",
    "\n",
    "\n",
    "# Create an empty dataframe to store the results\n",
    "df = pd.DataFrame(columns=['Solver', 'Method', 'Time'])\n",
    "\n",
    "# for i, s in enumerate(solvers):\n",
    "    for m in methods:\n",
    "        print(f'{s} | {solvers_method[i]} | {m}')\n",
    "        to_interpolate = copy.deepcopy(maskedImage)\n",
    "        GP = InterpolateOverDefectGaussianProcess(to_interpolate, defects=[\"SAT\"],\n",
    "                                                  fwhm=15, block_size=40, solver=s,\n",
    "                                                  method=m, bin_spacing=15, use_binning=True)\n",
    "\n",
    "        # Perform the interpolation and record the time for each solver and method\n",
    "        start_time = time.time()\n",
    "        GP.interpolate_over_defects()\n",
    "        end_time = time.time()\n",
    "        execution_time = end_time - start_time\n",
    "\n",
    "        # Append the results to the dataframe\n",
    "        # df = pd.concat([df, pd.DataFrame({'Solver': [s], 'Method': [m], 'Time': [execution_time]})], ignore_index=True)\n",
    "\n",
    "        plt.figure(figsize=(12, 12))\n",
    "        plt.imshow(GP.maskedImage.getImage().array, vmin=400, vmax=800, cmap=plt.cm.Greys_r)\n",
    "        plt.gca().invert_yaxis()\n",
    "        plt.title(f'{s} | {solvers_method[i]} | {m}')\n",
    "        plt.savefig(f'{s}_{solvers_method[i]}_{m}.png')"
   ]
  },
  {
   "cell_type": "code",
   "execution_count": null,
   "id": "a45ae975-6d57-4c9c-a0a9-aeb9ae367ae8",
   "metadata": {},
   "outputs": [],
   "source": [
    "dic = pickle.load(open(\"data/out_test_0.pkl\", \"rb\"))\n",
    "maskedImage = dic['in']['maskedImage']\n",
    "\n",
    "\n",
    "bad_pixel, good_pixel = ctUtils.findGoodPixelsAroundBadPixels(maskedImage, [\"SAT\"], buffer=25)\n",
    "\n",
    "plt.figure(figsize=(8,12))\n",
    "plt.scatter(good_pixel[:,0], good_pixel[:,1],\n",
    "            c=good_pixel[:,2],\n",
    "            vmin=400, vmax=800, cmap=plt.cm.Greys_r, s=1)\n",
    "plt.axis('equal')\n",
    "xlim = plt.xlim()\n",
    "ylim = plt.ylim()\n",
    "plt.title('Good pixels')\n",
    "plt.savefig('good_pixel.png')\n",
    "\n",
    "\n",
    "plt.figure(figsize=(8,12))\n",
    "plt.scatter(bad_pixel[:,0], bad_pixel[:,1],\n",
    "            c=bad_pixel[:,2],\n",
    "            vmin=400, vmax=800, cmap=plt.cm.Greys_r, s=1)\n",
    "plt.axis('equal')\n",
    "xlim = plt.xlim()\n",
    "ylim = plt.ylim()\n",
    "plt.title('Bad pixels')\n",
    "plt.savefig('bad_pixel.png')"
   ]
  },
  {
   "cell_type": "code",
   "execution_count": null,
   "id": "0a5170ce-6014-4d7e-a570-cdc033425361",
   "metadata": {},
   "outputs": [],
   "source": []
  }
 ],
 "metadata": {
  "kernelspec": {
   "display_name": "LSST",
   "language": "python",
   "name": "lsst"
  },
  "language_info": {
   "codemirror_mode": {
    "name": "ipython",
    "version": 3
   },
   "file_extension": ".py",
   "mimetype": "text/x-python",
   "name": "python",
   "nbconvert_exporter": "python",
   "pygments_lexer": "ipython3",
   "version": "3.11.7"
  }
 },
 "nbformat": 4,
 "nbformat_minor": 5
}
